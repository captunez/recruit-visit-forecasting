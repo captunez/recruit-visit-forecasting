{
 "cells": [
  {
   "cell_type": "code",
   "execution_count": 98,
   "metadata": {
    "collapsed": true
   },
   "outputs": [],
   "source": [
    "import pandas as pd\n",
    "import numpy as np\n",
    "from datetime import datetime\n",
    "import glob, re\n",
    "from dateutil.parser import parse as date_parse"
   ]
  },
  {
   "cell_type": "code",
   "execution_count": 3,
   "metadata": {},
   "outputs": [],
   "source": [
    "weather_set_dir = 'jhz-weather-data'\n",
    "air_store_info = pd.read_csv('{}/air_store_info_with_nearest_active_station.csv'.format(weather_set_dir))\n",
    "hpg_store_info = pd.read_csv('{}/hpg_store_info_with_nearest_active_station.csv'.format(weather_set_dir))\n",
    "\n",
    "air_station_distances = pd.read_csv('{}/air_station_distances.csv'.format(weather_set_dir))\n",
    "hpg_station_distances = pd.read_csv('{}/hpg_station_distances.csv'.format(weather_set_dir))\n",
    "\n",
    "weather_stations = pd.read_csv('{}/weather_stations.csv'.format(weather_set_dir))\n",
    "nearby_active_stations = pd.read_csv('{}/nearby_active_stations.csv'.format(weather_set_dir))\n",
    "feature_manifest = pd.read_csv('{}/feature_manifest.csv'.format(weather_set_dir))"
   ]
  },
  {
   "cell_type": "code",
   "execution_count": 67,
   "metadata": {},
   "outputs": [],
   "source": [
    "# Read all the csv files\n",
    "# Note: need to parse date into datetime type\n",
    "dfs = { re.search('/([^/\\.]*)\\.csv', fn).group(1):\n",
    "    pd.read_csv(fn, parse_dates=['calendar_date'])for fn in glob.glob('1-1-16_5-31-17_Weather/*.csv')}\n",
    "for k, v in dfs.items(): locals()[k] = v"
   ]
  },
  {
   "cell_type": "code",
   "execution_count": 12,
   "metadata": {},
   "outputs": [
    {
     "data": {
      "text/html": [
       "<div>\n",
       "<style scoped>\n",
       "    .dataframe tbody tr th:only-of-type {\n",
       "        vertical-align: middle;\n",
       "    }\n",
       "\n",
       "    .dataframe tbody tr th {\n",
       "        vertical-align: top;\n",
       "    }\n",
       "\n",
       "    .dataframe thead th {\n",
       "        text-align: right;\n",
       "    }\n",
       "</style>\n",
       "<table border=\"1\" class=\"dataframe\">\n",
       "  <thead>\n",
       "    <tr style=\"text-align: right;\">\n",
       "      <th></th>\n",
       "      <th>calendar_date</th>\n",
       "      <th>avg_temperature</th>\n",
       "      <th>high_temperature</th>\n",
       "      <th>low_temperature</th>\n",
       "      <th>precipitation</th>\n",
       "      <th>hours_sunlight</th>\n",
       "      <th>solar_radiation</th>\n",
       "      <th>deepest_snowfall</th>\n",
       "      <th>total_snowfall</th>\n",
       "      <th>avg_wind_speed</th>\n",
       "      <th>avg_vapor_pressure</th>\n",
       "      <th>avg_local_pressure</th>\n",
       "      <th>avg_humidity</th>\n",
       "      <th>avg_sea_pressure</th>\n",
       "      <th>cloud_cover</th>\n",
       "    </tr>\n",
       "  </thead>\n",
       "  <tbody>\n",
       "    <tr>\n",
       "      <th>0</th>\n",
       "      <td>2016-01-01</td>\n",
       "      <td>6.0</td>\n",
       "      <td>11.0</td>\n",
       "      <td>0.7</td>\n",
       "      <td>0.0</td>\n",
       "      <td>9.1</td>\n",
       "      <td>NaN</td>\n",
       "      <td>NaN</td>\n",
       "      <td>NaN</td>\n",
       "      <td>2.9</td>\n",
       "      <td>NaN</td>\n",
       "      <td>NaN</td>\n",
       "      <td>NaN</td>\n",
       "      <td>NaN</td>\n",
       "      <td>NaN</td>\n",
       "    </tr>\n",
       "    <tr>\n",
       "      <th>1</th>\n",
       "      <td>2016-01-02</td>\n",
       "      <td>4.7</td>\n",
       "      <td>10.5</td>\n",
       "      <td>0.0</td>\n",
       "      <td>0.0</td>\n",
       "      <td>6.8</td>\n",
       "      <td>NaN</td>\n",
       "      <td>NaN</td>\n",
       "      <td>NaN</td>\n",
       "      <td>1.4</td>\n",
       "      <td>NaN</td>\n",
       "      <td>NaN</td>\n",
       "      <td>NaN</td>\n",
       "      <td>NaN</td>\n",
       "      <td>NaN</td>\n",
       "    </tr>\n",
       "    <tr>\n",
       "      <th>2</th>\n",
       "      <td>2016-01-03</td>\n",
       "      <td>7.0</td>\n",
       "      <td>13.8</td>\n",
       "      <td>1.9</td>\n",
       "      <td>0.0</td>\n",
       "      <td>8.6</td>\n",
       "      <td>NaN</td>\n",
       "      <td>NaN</td>\n",
       "      <td>NaN</td>\n",
       "      <td>1.4</td>\n",
       "      <td>NaN</td>\n",
       "      <td>NaN</td>\n",
       "      <td>NaN</td>\n",
       "      <td>NaN</td>\n",
       "      <td>NaN</td>\n",
       "    </tr>\n",
       "    <tr>\n",
       "      <th>3</th>\n",
       "      <td>2016-01-04</td>\n",
       "      <td>8.8</td>\n",
       "      <td>14.7</td>\n",
       "      <td>2.7</td>\n",
       "      <td>0.0</td>\n",
       "      <td>5.3</td>\n",
       "      <td>NaN</td>\n",
       "      <td>NaN</td>\n",
       "      <td>NaN</td>\n",
       "      <td>2.2</td>\n",
       "      <td>NaN</td>\n",
       "      <td>NaN</td>\n",
       "      <td>NaN</td>\n",
       "      <td>NaN</td>\n",
       "      <td>NaN</td>\n",
       "    </tr>\n",
       "    <tr>\n",
       "      <th>4</th>\n",
       "      <td>2016-01-05</td>\n",
       "      <td>8.9</td>\n",
       "      <td>14.1</td>\n",
       "      <td>3.4</td>\n",
       "      <td>0.0</td>\n",
       "      <td>4.5</td>\n",
       "      <td>NaN</td>\n",
       "      <td>NaN</td>\n",
       "      <td>NaN</td>\n",
       "      <td>2.7</td>\n",
       "      <td>NaN</td>\n",
       "      <td>NaN</td>\n",
       "      <td>NaN</td>\n",
       "      <td>NaN</td>\n",
       "      <td>NaN</td>\n",
       "    </tr>\n",
       "  </tbody>\n",
       "</table>\n",
       "</div>"
      ],
      "text/plain": [
       "  calendar_date  avg_temperature  high_temperature  low_temperature  \\\n",
       "0    2016-01-01              6.0              11.0              0.7   \n",
       "1    2016-01-02              4.7              10.5              0.0   \n",
       "2    2016-01-03              7.0              13.8              1.9   \n",
       "3    2016-01-04              8.8              14.7              2.7   \n",
       "4    2016-01-05              8.9              14.1              3.4   \n",
       "\n",
       "   precipitation  hours_sunlight  solar_radiation  deepest_snowfall  \\\n",
       "0            0.0             9.1              NaN               NaN   \n",
       "1            0.0             6.8              NaN               NaN   \n",
       "2            0.0             8.6              NaN               NaN   \n",
       "3            0.0             5.3              NaN               NaN   \n",
       "4            0.0             4.5              NaN               NaN   \n",
       "\n",
       "   total_snowfall  avg_wind_speed  avg_vapor_pressure  avg_local_pressure  \\\n",
       "0             NaN             2.9                 NaN                 NaN   \n",
       "1             NaN             1.4                 NaN                 NaN   \n",
       "2             NaN             1.4                 NaN                 NaN   \n",
       "3             NaN             2.2                 NaN                 NaN   \n",
       "4             NaN             2.7                 NaN                 NaN   \n",
       "\n",
       "   avg_humidity  avg_sea_pressure  cloud_cover  \n",
       "0           NaN               NaN          NaN  \n",
       "1           NaN               NaN          NaN  \n",
       "2           NaN               NaN          NaN  \n",
       "3           NaN               NaN          NaN  \n",
       "4           NaN               NaN          NaN  "
      ]
     },
     "execution_count": 12,
     "metadata": {},
     "output_type": "execute_result"
    }
   ],
   "source": [
    "dfs['aichi__ai-xi-kana__isaai'].head()"
   ]
  },
  {
   "cell_type": "code",
   "execution_count": 17,
   "metadata": {
    "collapsed": true
   },
   "outputs": [],
   "source": [
    "def select_stations(latitude_str, longitude_str, distance_df, effective_range=20.0, date_floor=None, top_n=5):\n",
    "    \"\"\"\n",
    "    Filters stations based on proximity to coordinates, and termination status\n",
    "    Note: if longitude_str is None, the first argument is assumed to be a properly formatted coordinate string\n",
    "    :param latitude_str: latitude_str from air/hpg_store_info_with_nearest_active_station\n",
    "    :param longitude_str: longitude_str from air/hpg_store_info_with_nearest_active_station\n",
    "    :param distance_df: one of the following DFs: air_station_distances, hpg_station_distances\n",
    "    :param effective_range: float in kilometers specifying the max distance a station can be from the store\n",
    "    :param date_floor: if datetime, remove stations terminated before date_floor. If None, ignore termination\n",
    "    :param top_n: if int, return at most top_n many stations. If None, all stations will be returned\n",
    "    :returns: a list of tuples of (station_id, distance) that meet the given specifications - sorted by distance\n",
    "    \"\"\"\n",
    "    if longitude_str is not None:\n",
    "        _lookup_coords = '({}, {})'.format(latitude_str, longitude_str).replace('\"', '')\n",
    "    else:\n",
    "        _lookup_coords = latitude_str\n",
    "        \n",
    "    _ids, _distances = distance_df['station_id'].values, distance_df[_lookup_coords]\n",
    "    _result = [(_ids[_], _distances[_]) for _ in range(len(_ids)) if _distances[_] <= effective_range]\n",
    "    \n",
    "    if date_floor is not None and isinstance(date_floor, datetime):\n",
    "        _result = [_ for _ in _result if '____' not in _[0] or date_parse(_[0].split('____')[1]) > date_floor]\n",
    "\n",
    "    return sorted(_result, key=lambda _: _[1])[:top_n]\n"
   ]
  },
  {
   "cell_type": "code",
   "execution_count": 19,
   "metadata": {
    "collapsed": true
   },
   "outputs": [],
   "source": [
    "store = hpg_store_info.iloc[0]\n",
    "lat_str, lon_str = store['latitude_str'], store['longitude_str']\n",
    "_test_0 = select_stations(lat_str, lon_str, hpg_station_distances)"
   ]
  },
  {
   "cell_type": "code",
   "execution_count": 23,
   "metadata": {},
   "outputs": [],
   "source": [
    "_test_1 = select_stations(lat_str, lon_str, hpg_station_distances, date_floor=date_parse('2017-5-31'))"
   ]
  },
  {
   "cell_type": "code",
   "execution_count": 24,
   "metadata": {},
   "outputs": [
    {
     "data": {
      "text/plain": [
       "[('tokyo__setagaya-kana__setagaya', 4.7579321766000007),\n",
       " ('tokyo__tokyo-kana__tonokyo', 9.1201964878599995),\n",
       " ('kanagawa__hiyoshi-kana__hiyoshi', 10.341102465300001),\n",
       " ('tokyo__nerima-kana__nerima', 12.582557308399998),\n",
       " ('tokyo__haneda-kana__haneda', 14.250354447699999)]"
      ]
     },
     "execution_count": 24,
     "metadata": {},
     "output_type": "execute_result"
    }
   ],
   "source": [
    "_test_1"
   ]
  },
  {
   "cell_type": "code",
   "execution_count": 104,
   "metadata": {
    "collapsed": true
   },
   "outputs": [],
   "source": [
    "start_date = datetime(2016,1,1)\n",
    "end_date = datetime(2017,5,31)"
   ]
  },
  {
   "cell_type": "code",
   "execution_count": 105,
   "metadata": {},
   "outputs": [
    {
     "data": {
      "text/plain": [
       "DatetimeIndex(['2016-01-01', '2016-01-02', '2016-01-03', '2016-01-04',\n",
       "               '2016-01-05', '2016-01-06', '2016-01-07', '2016-01-08',\n",
       "               '2016-01-09', '2016-01-10',\n",
       "               ...\n",
       "               '2017-05-22', '2017-05-23', '2017-05-24', '2017-05-25',\n",
       "               '2017-05-26', '2017-05-27', '2017-05-28', '2017-05-29',\n",
       "               '2017-05-30', '2017-05-31'],\n",
       "              dtype='datetime64[ns]', length=517, freq='D')"
      ]
     },
     "execution_count": 105,
     "metadata": {},
     "output_type": "execute_result"
    }
   ],
   "source": [
    "pd.date_range(start_date, end_date)"
   ]
  },
  {
   "cell_type": "code",
   "execution_count": 103,
   "metadata": {},
   "outputs": [
    {
     "data": {
      "text/plain": [
       "air_store_id     hpg_store_id                      hpg_6622b623...\n",
       "calendar_date                                  2017-06-01 00:00:00\n",
       "Name: 517, dtype: object"
      ]
     },
     "execution_count": 103,
     "metadata": {},
     "output_type": "execute_result"
    }
   ],
   "source": [
    "df.iloc[517]"
   ]
  },
  {
   "cell_type": "code",
   "execution_count": 113,
   "metadata": {},
   "outputs": [
    {
     "data": {
      "text/plain": [
       "hpg_store_id                      hpg_6622b62385aec8bf\n",
       "hpg_genre_name                          Japanese style\n",
       "hpg_area_name            Tōkyō-to Setagaya-ku Taishidō\n",
       "latitude                                       35.6437\n",
       "longitude                                      139.668\n",
       "latitude_str                        \"35.6436746642265\"\n",
       "longitude_str                       \"139.668220854814\"\n",
       "station_id              tokyo__setagaya-kana__setagaya\n",
       "station_latitude                               35.6267\n",
       "station_longitude                               139.62\n",
       "station_vincenty                               4.75793\n",
       "station_great_circle                           4.75187\n",
       "Name: 0, dtype: object"
      ]
     },
     "execution_count": 113,
     "metadata": {},
     "output_type": "execute_result"
    }
   ],
   "source": [
    "store"
   ]
  },
  {
   "cell_type": "code",
   "execution_count": 131,
   "metadata": {},
   "outputs": [],
   "source": [
    "# For each store, get their top 5 stations within 20 kms\n",
    "# Add a date column for each store\n",
    "# Search the station files, merge on these dates\n",
    "def get_weather(store_id):\n",
    "    dates = pd.date_range(start_date, end_date)\n",
    "    length = len(dates)\n",
    "    df = pd.DataFrame({'air_store_id': [store_id] * len(dates), 'calendar_date': dates})\n",
    "    selected_stations = select_stations(lat_str, lon_str, hpg_station_distances, date_floor=date_parse('2017-5-31'))\n",
    "    # Skip two snow features\n",
    "    weather_columns = [\n",
    "        'avg_temperature', 'high_temperature', 'low_temperature', 'precipitation',\n",
    "        'hours_sunlight', 'solar_radiation',  'avg_wind_speed',\n",
    "        'avg_vapor_pressure', 'avg_local_pressure', 'avg_humidity', 'avg_sea_pressure', \n",
    "        'cloud_cover'\n",
    "    ]\n",
    "    \n",
    "    weather_df = [dfs[station[0]].loc[(dfs[station[0]].calendar_date >= start_date) & (dfs[station[0]].calendar_date < end_date)] for station in selected_stations]\n",
    "\n",
    "    for col in weather_columns:\n",
    "        temp = []\n",
    "        for i in range(length):\n",
    "            total, count = 0, 0\n",
    "            for station_df in weather_df:\n",
    "                try:\n",
    "                    val = station_df.iloc[i][col]\n",
    "                except:\n",
    "                    None\n",
    "                if not np.isnan(val):\n",
    "                    total += val\n",
    "                    count += 1\n",
    "            if count > 0:\n",
    "                temp.append(total/count*1.0)\n",
    "            else:\n",
    "                temp.append(np.nan)\n",
    "        df[col] = temp\n",
    "    df = df.fillna(method='ffill')\n",
    "    return df\n",
    "            \n",
    "   \n",
    "    "
   ]
  },
  {
   "cell_type": "code",
   "execution_count": 125,
   "metadata": {
    "collapsed": true
   },
   "outputs": [],
   "source": [
    "store_id = hpg_store_info.iloc[2].hpg_store_id\n",
    "df = get_weather(store_id)"
   ]
  },
  {
   "cell_type": "code",
   "execution_count": 127,
   "metadata": {},
   "outputs": [
    {
     "name": "stdout",
     "output_type": "stream",
     "text": [
      "avg_temperature 0.0\n",
      "high_temperature 0.0\n",
      "low_temperature 0.0\n",
      "precipitation 0.0\n",
      "hours_sunlight 0.0\n",
      "solar_radiation 0.0\n",
      "avg_wind_speed 0.0\n",
      "avg_vapor_pressure 0.0\n",
      "avg_local_pressure 0.0\n",
      "avg_humidity 0.0\n",
      "avg_sea_pressure 0.0\n",
      "cloud_cover 0.0\n"
     ]
    }
   ],
   "source": [
    "weather_columns = [\n",
    "        'avg_temperature', 'high_temperature', 'low_temperature', 'precipitation',\n",
    "        'hours_sunlight', 'solar_radiation',  'avg_wind_speed',\n",
    "        'avg_vapor_pressure', 'avg_local_pressure', 'avg_humidity', 'avg_sea_pressure', \n",
    "        'cloud_cover'\n",
    "    ]\n",
    "for col in weather_columns:\n",
    "    df = df.fillna(method='ffill')\n",
    "    print(col, df[col].isnull().sum()/len(df))"
   ]
  },
  {
   "cell_type": "code",
   "execution_count": 129,
   "metadata": {},
   "outputs": [
    {
     "data": {
      "text/html": [
       "<div>\n",
       "<style scoped>\n",
       "    .dataframe tbody tr th:only-of-type {\n",
       "        vertical-align: middle;\n",
       "    }\n",
       "\n",
       "    .dataframe tbody tr th {\n",
       "        vertical-align: top;\n",
       "    }\n",
       "\n",
       "    .dataframe thead th {\n",
       "        text-align: right;\n",
       "    }\n",
       "</style>\n",
       "<table border=\"1\" class=\"dataframe\">\n",
       "  <thead>\n",
       "    <tr style=\"text-align: right;\">\n",
       "      <th></th>\n",
       "      <th>air_store_id</th>\n",
       "      <th>air_genre_name</th>\n",
       "      <th>air_area_name</th>\n",
       "      <th>latitude</th>\n",
       "      <th>longitude</th>\n",
       "    </tr>\n",
       "  </thead>\n",
       "  <tbody>\n",
       "    <tr>\n",
       "      <th>0</th>\n",
       "      <td>air_0f0cdeee6c9bf3d7</td>\n",
       "      <td>Italian/French</td>\n",
       "      <td>Hyōgo-ken Kōbe-shi Kumoidōri</td>\n",
       "      <td>34.695124</td>\n",
       "      <td>135.197852</td>\n",
       "    </tr>\n",
       "    <tr>\n",
       "      <th>1</th>\n",
       "      <td>air_7cc17a324ae5c7dc</td>\n",
       "      <td>Italian/French</td>\n",
       "      <td>Hyōgo-ken Kōbe-shi Kumoidōri</td>\n",
       "      <td>34.695124</td>\n",
       "      <td>135.197852</td>\n",
       "    </tr>\n",
       "    <tr>\n",
       "      <th>2</th>\n",
       "      <td>air_fee8dcf4d619598e</td>\n",
       "      <td>Italian/French</td>\n",
       "      <td>Hyōgo-ken Kōbe-shi Kumoidōri</td>\n",
       "      <td>34.695124</td>\n",
       "      <td>135.197852</td>\n",
       "    </tr>\n",
       "    <tr>\n",
       "      <th>3</th>\n",
       "      <td>air_a17f0778617c76e2</td>\n",
       "      <td>Italian/French</td>\n",
       "      <td>Hyōgo-ken Kōbe-shi Kumoidōri</td>\n",
       "      <td>34.695124</td>\n",
       "      <td>135.197852</td>\n",
       "    </tr>\n",
       "    <tr>\n",
       "      <th>4</th>\n",
       "      <td>air_83db5aff8f50478e</td>\n",
       "      <td>Italian/French</td>\n",
       "      <td>Tōkyō-to Minato-ku Shibakōen</td>\n",
       "      <td>35.658068</td>\n",
       "      <td>139.751599</td>\n",
       "    </tr>\n",
       "  </tbody>\n",
       "</table>\n",
       "</div>"
      ],
      "text/plain": [
       "           air_store_id  air_genre_name                 air_area_name  \\\n",
       "0  air_0f0cdeee6c9bf3d7  Italian/French  Hyōgo-ken Kōbe-shi Kumoidōri   \n",
       "1  air_7cc17a324ae5c7dc  Italian/French  Hyōgo-ken Kōbe-shi Kumoidōri   \n",
       "2  air_fee8dcf4d619598e  Italian/French  Hyōgo-ken Kōbe-shi Kumoidōri   \n",
       "3  air_a17f0778617c76e2  Italian/French  Hyōgo-ken Kōbe-shi Kumoidōri   \n",
       "4  air_83db5aff8f50478e  Italian/French  Tōkyō-to Minato-ku Shibakōen   \n",
       "\n",
       "    latitude   longitude  \n",
       "0  34.695124  135.197852  \n",
       "1  34.695124  135.197852  \n",
       "2  34.695124  135.197852  \n",
       "3  34.695124  135.197852  \n",
       "4  35.658068  139.751599  "
      ]
     },
     "execution_count": 129,
     "metadata": {},
     "output_type": "execute_result"
    }
   ],
   "source": [
    "air = pd.read_csv('input/air_store_info.csv')\n",
    "air.head()"
   ]
  },
  {
   "cell_type": "code",
   "execution_count": 132,
   "metadata": {
    "collapsed": true
   },
   "outputs": [],
   "source": [
    "df_list = []\n",
    "for store_id in air.air_store_id.values:\n",
    "    df = get_weather(store_id)\n",
    "    df_list.append(df)\n",
    "weather_store = pd.concat(df_list)\n",
    "    \n",
    "    "
   ]
  },
  {
   "cell_type": "code",
   "execution_count": 137,
   "metadata": {},
   "outputs": [
    {
     "data": {
      "text/plain": [
       "air_store_id          False\n",
       "calendar_date         False\n",
       "avg_temperature       False\n",
       "high_temperature      False\n",
       "low_temperature       False\n",
       "precipitation         False\n",
       "hours_sunlight        False\n",
       "solar_radiation       False\n",
       "avg_wind_speed        False\n",
       "avg_vapor_pressure    False\n",
       "avg_local_pressure    False\n",
       "avg_humidity          False\n",
       "avg_sea_pressure      False\n",
       "cloud_cover           False\n",
       "dtype: bool"
      ]
     },
     "execution_count": 137,
     "metadata": {},
     "output_type": "execute_result"
    }
   ],
   "source": [
    "weather_store.isnull().any()"
   ]
  },
  {
   "cell_type": "code",
   "execution_count": 138,
   "metadata": {
    "collapsed": true
   },
   "outputs": [],
   "source": [
    "weather_store.to_csv(\"input/air_store_weather.csv\",index=False)"
   ]
  },
  {
   "cell_type": "code",
   "execution_count": null,
   "metadata": {
    "collapsed": true
   },
   "outputs": [],
   "source": []
  }
 ],
 "metadata": {
  "kernelspec": {
   "display_name": "Python 3",
   "language": "python",
   "name": "python3"
  },
  "language_info": {
   "codemirror_mode": {
    "name": "ipython",
    "version": 3
   },
   "file_extension": ".py",
   "mimetype": "text/x-python",
   "name": "python",
   "nbconvert_exporter": "python",
   "pygments_lexer": "ipython3",
   "version": "3.6.1"
  }
 },
 "nbformat": 4,
 "nbformat_minor": 2
}
