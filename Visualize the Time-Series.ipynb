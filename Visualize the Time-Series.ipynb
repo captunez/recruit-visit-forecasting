{
  "cells": [
    {
      "metadata": {
        "_uuid": "a65e81ad668e6ecd97ae8b2deace59c1e4faf6f2",
        "_cell_guid": "820260c1-2d6f-4448-a497-745e73919cc3"
      },
      "cell_type": "markdown",
      "source": "Sometimes it helps to just look at the data :)"
    },
    {
      "metadata": {
        "_uuid": "5a3bfae8c1f72c936861d4511a1f18a7c4e0087b",
        "_cell_guid": "7aa42cbd-6734-4c21-b48d-e0b205acf43a",
        "trusted": false,
        "collapsed": true
      },
      "cell_type": "code",
      "source": "%matplotlib inline\n%config InlineBackend.figure_format = 'retina'\n\nimport numpy as np\nimport pandas as pd\nfrom pylab import rcParams\n\nfrom statsmodels.graphics.tsaplots import plot_acf\n\ndf = pd.read_csv('../input/air_visit_data.csv', parse_dates=['visit_date'])",
      "execution_count": null,
      "outputs": []
    },
    {
      "metadata": {
        "_uuid": "351a78aee31e7d5adc0144d0f0abaa8ea490c59e",
        "collapsed": true,
        "_cell_guid": "c62d21c5-cd22-438c-9988-b42a394aafed",
        "trusted": false
      },
      "cell_type": "code",
      "source": "rcParams['figure.figsize'] = 16, 300\n\nt = (df.set_index([\"air_store_id\", \"visit_date\"])[\"visitors\"]\n  .unstack()\n  .iloc[:100].T\n  .plot(legend=None, subplots = True))\n",
      "execution_count": null,
      "outputs": []
    },
    {
      "metadata": {
        "_uuid": "14260cc1f8bb2c0cc59035833a5a11ce63de4f2c",
        "collapsed": true,
        "_cell_guid": "958294b0-9aeb-459a-bd8d-8e602c5e39f3",
        "trusted": false
      },
      "cell_type": "code",
      "source": "t = (df.set_index([\"air_store_id\", \"visit_date\"])[\"visitors\"]\n  .unstack()\n  .iloc[100:200].T\n  .plot(legend=None, subplots = True))",
      "execution_count": null,
      "outputs": []
    },
    {
      "metadata": {
        "_uuid": "baf472747eda6d02b5ce9b962d979fc128330fcd",
        "collapsed": true,
        "_cell_guid": "0e2ad6f5-5246-4cb5-9341-f59192601f96",
        "trusted": false
      },
      "cell_type": "code",
      "source": "t = (df.set_index([\"air_store_id\", \"visit_date\"])[\"visitors\"]\n  .unstack()\n  .iloc[200:300].T\n  .plot(legend=None, subplots = True))",
      "execution_count": null,
      "outputs": []
    }
  ],
  "metadata": {
    "language_info": {
      "name": "python",
      "version": "3.6.4",
      "mimetype": "text/x-python",
      "codemirror_mode": {
        "name": "ipython",
        "version": 3
      },
      "pygments_lexer": "ipython3",
      "nbconvert_exporter": "python",
      "file_extension": ".py"
    },
    "kernelspec": {
      "display_name": "Python 3",
      "language": "python",
      "name": "python3"
    }
  },
  "nbformat": 4,
  "nbformat_minor": 1
}