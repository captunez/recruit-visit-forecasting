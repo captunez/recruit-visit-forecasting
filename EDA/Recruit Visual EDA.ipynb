{
  "cells": [
    {
      "metadata": {
        "_cell_guid": "126350f6-71da-4ca5-b5f5-dd1f944505cc",
        "_uuid": "a8f52e4e890dcd596f760e3724b940040c00105b"
      },
      "cell_type": "markdown",
      "source": "\n> \"Of the 95% of Japanese that eat three meals a day, most people consider dinner to be the most important. More than 80% of them usually have dinner at home with their families. But as for what they actually eat, over 60% of Japanese rely on home meal replacement (ready-to-eat food bought elsewhere and taken home) at least once or twice a month. And more than 70% enjoy dining out at least once or twice monthly. This is the picture that emerged when Trends in Japan conducted an online survey concerning attitudes among Japanese people toward eating\" [Japanese Online Survey] (http://)http://web-japan.org/trends01/article/020403fea_r.html \n\n\nThis notebook is exploratory data analysis and divided into the following:\n\nBusiness Analysis:\n1. Geographical distribution of the store \n2. Number of visitors  trend  \n3. Visitors by genre\n4. Visitors by weekdays trend and group size\n5. Reservations trends\n6. Productivity by air_store_id\n\nFeature Engineering\n\nOutliers\n"
    },
    {
      "metadata": {
        "_cell_guid": "4403c831-b88b-4b9b-8cef-18b43e24be1d",
        "_uuid": "5d1df8c1c47ddc056b03de87ad2bb35742b8de0c"
      },
      "cell_type": "markdown",
      "source": "Basic information of the dataset:"
    },
    {
      "metadata": {
        "_cell_guid": "4c02bc89-69f3-47d9-890b-1bb2d1295800",
        "_uuid": "389e9958fa616429b2c0a7a1b20f36c86c4b86be",
        "_kg_hide-input": true,
        "trusted": false,
        "collapsed": true
      },
      "cell_type": "code",
      "source": "import numpy as np\nimport pandas as pd\nfrom sklearn import ensemble, neighbors, linear_model, metrics, preprocessing\nfrom datetime import datetime\nimport glob, re\nimport time, datetime\nfrom datetime import timedelta\n\nimport matplotlib.pyplot as plt\nplt.style.use('fivethirtyeight')\nimport seaborn as sns\ncolor = sns.color_palette()\n\n%matplotlib inline\n\nimport warnings\nwarnings.filterwarnings(\"ignore\")\n\n# from JdPaletto & the1owl1\n# JdPaletto - https://www.kaggle.com/jdpaletto/surprised-yet-part2-lb-0-503?scriptVersionId=1867420\n# the1owl1 - https://www.kaggle.com/the1owl/surprise-me\nstart1 =time.time()\ndata = {\n    'tra': pd.read_csv('../input/air_visit_data.csv'),\n    'as': pd.read_csv('../input/air_store_info.csv'),\n    'hs': pd.read_csv('../input/hpg_store_info.csv'),\n    'ar': pd.read_csv('../input/air_reserve.csv'),\n    'hr': pd.read_csv('../input/hpg_reserve.csv'),\n    'id': pd.read_csv('../input/store_id_relation.csv'),\n    'tes': pd.read_csv('../input/sample_submission.csv'),\n    'hol': pd.read_csv('../input/date_info.csv').rename(columns={'calendar_date':'visit_date'})\n    }\n\ndata['hr'] = pd.merge(data['hr'], data['id'], how='inner', on=['hpg_store_id'])# bring air id to hpg reserve data\ndata['hs'] = pd.merge(data['hs'], data['id'], how='inner', on=['hpg_store_id'])# bring air id to hpg stores\n\nprint('Data structure.......................')\nprint('Training data....',data['tra'].shape)\nprint('Unique store id in training data',len(data['tra']['air_store_id'].unique()))\nprint('Id data....',data['id'].shape)\nprint('Air store data....',data['as'].shape,'& unique-',data['as']['air_store_id'].unique().shape)\nprint('Hpg store data....',data['hs'].shape,'& unique-',data['hs']['hpg_store_id'].unique().shape)\nprint('Air reserve data....',data['ar'].shape,'& unique-',data['ar']['air_store_id'].unique().shape)\nprint('Hpg reserve data....',data['hr'].shape,'& unique-',data['hr']['air_store_id'].unique().shape)\n      \n#converting datetime to date for reservation data\nfor df in ['ar','hr']:\n    data[df]['visit_datetime'] = pd.to_datetime(data[df]['visit_datetime'])\n    data[df]['visit_hour'] = data[df]['visit_datetime'].dt.hour\n    data[df]['visit_date'] = data[df]['visit_datetime'].dt.date\n    data[df]['reserve_datetime'] = pd.to_datetime(data[df]['reserve_datetime'])\n    data[df]['reserve_hour'] = data[df]['reserve_datetime'].dt.hour\n    data[df]['reserve_date'] = data[df]['reserve_datetime'].dt.date\n    \n    data[df+'_hour'] = data[df]#keeping original\n        \n    #calculate reserve time difference and summarizing ar,hr to date\n    data[df]['reserve_day_'+df] = data[df].apply(\n        lambda r: (r['visit_date'] - r['reserve_date']).days, axis=1)\n    data[df] = data[df].groupby(['air_store_id','visit_date'], as_index=False)[[\n        'reserve_day_'+df, 'reserve_visitors']].sum().rename(columns={'reserve_visitors':'reserve_visitors_'+df})\n    \n#breaking down dates on training data & summarizing \ndata['tra']['visit_date'] = pd.to_datetime(data['tra']['visit_date'])\ndata['tra']['day'] = data['tra']['visit_date'].dt.day\ndata['tra']['dow'] = data['tra']['visit_date'].dt.weekday\ndata['tra']['dow_name'] = data['tra']['visit_date'].dt.weekday_name\ndata['tra']['year'] = data['tra']['visit_date'].dt.year\ndata['tra']['month'] = data['tra']['visit_date'].dt.month\ndata['tra']['week'] = data['tra']['visit_date'].dt.week\ndata['tra']['quarter'] = data['tra']['visit_date'].dt.quarter\ndata['tra']['visit_date'] = data['tra']['visit_date'].dt.date\ndata['tra']['year_mth'] = data['tra']['year'].astype(str)+'-'+data['tra']['month'].astype(str)\n\n\n#extracting store id and date info from test data\ndata['tes']['air_store_id'] = data['tes']['id'].map(lambda x: '_'.join(x.split('_')[:2]))\ndata['tes']['visit_date'] = data['tes']['id'].map(lambda x: str(x).split('_')[2])\ndata['tes']['visit_date'] = pd.to_datetime(data['tes']['visit_date'])\ndata['tes']['day'] = data['tes']['visit_date'].dt.day\ndata['tes']['dow'] = data['tes']['visit_date'].dt.weekday\ndata['tes']['dow_name'] = data['tes']['visit_date'].dt.weekday_name\ndata['tes']['year'] = data['tes']['visit_date'].dt.year\ndata['tes']['month'] = data['tes']['visit_date'].dt.month\ndata['tes']['week'] = data['tes']['visit_date'].dt.week\ndata['tes']['quarter'] = data['tes']['visit_date'].dt.quarter\ndata['tes']['visit_date'] = data['tes']['visit_date'].dt.date\ndata['tes']['year_mth'] = data['tes']['year'].astype(str)+'-'+data['tes']['month'].astype(str)\n\n#extract unique stores based on test data and populate dow 1 to 6\nunique_stores = data['tes']['air_store_id'].unique()#extract unique stores id from test data\n\nstore_7days = pd.concat([pd.DataFrame({'air_store_id': unique_stores, 'dow': [i]*len(unique_stores)}) \n                    for i in range(7)], axis=0, ignore_index=True).reset_index(drop=True)\nstore_sum = pd.DataFrame({'air_store_id': unique_stores})\n\n# mapping train data dow to stores(test data) - min, mean, median, max, count \ntmp = data['tra'].groupby(['air_store_id'], as_index=False)[\n    'visitors'].sum().rename(columns={'visitors':'total_visitors'})\nstore_7days = pd.merge(store_7days, tmp, how='left', on=['air_store_id']) \ntmp = data['tra'].groupby(['air_store_id','dow'], as_index=False)[\n    'visitors'].mean().rename(columns={'visitors':'mean_visitors'})\nstore_7days = pd.merge(store_7days, tmp, how='left', on=['air_store_id','dow'])\ntmp = data['tra'].groupby(['air_store_id','dow'], as_index=False)[\n    'visitors'].median().rename(columns={'visitors':'median_visitors'})\nstore_7days = pd.merge(store_7days, tmp, how='left', on=['air_store_id','dow'])\ntmp = data['tra'].groupby(['air_store_id','dow'], as_index=False)[\n    'visitors'].max().rename(columns={'visitors':'max_visitors'})\nstore_7days = pd.merge(store_7days, tmp, how='left', on=['air_store_id','dow'])\ntmp = data['tra'].groupby(['air_store_id','dow'], as_index=False)[\n    'visitors'].count().rename(columns={'visitors':'count_observations'})\nstore_7days = pd.merge(store_7days, tmp, how='left', on=['air_store_id','dow']) \n# map stores(test) to store genre and location detail\nstore_7days = pd.merge(store_7days, data['as'], how='left', on=['air_store_id']) \n#map to hpg genre and area\nstore_7days = pd.merge(store_7days, data['hs'][['air_store_id','hpg_genre_name','hpg_area_name']], \n                       how='left', on=['air_store_id']) \n\ndata['hol']['visit_date'] = pd.to_datetime(data['hol']['visit_date'])\ndata['hol']['visit_date'] = data['hol']['visit_date'].dt.date\n\nhf=data['hol']['holiday_flg']\ndw=data['hol']['day_of_week']\ndata['hol']['long_wknd']=0\n\nfor i in range(len(data['hol'])):\n    if (hf[i]==1)&(dw[i]=='Friday'):\n        data['hol']['long_wknd'][i]=1\n        data['hol']['long_wknd'][i+1]=1\n        data['hol']['long_wknd'][i+2]=1\n          \n    if (hf[i]==1)&(dw[i]=='Monday'):\n        data['hol']['long_wknd'][i]=1\n        data['hol']['long_wknd'][i-1]=1\n        data['hol']['long_wknd'][i-2]=1\n\n\ntrain = pd.merge(data['tra'], data['hol'], how='left', on=['visit_date']) \ntest = pd.merge(data['tes'], data['hol'], how='left', on=['visit_date']) \ntrain = pd.merge(train, store_7days, how='left', on=['air_store_id','dow']) \ntest = pd.merge(test, store_7days, how='left', on=['air_store_id','dow'])\n\nfor df in ['ar','hr']:\n    train = pd.merge(train, data[df], how='left', on=['air_store_id','visit_date']) \n    test = pd.merge(test, data[df], how='left', on=['air_store_id','visit_date'])\n\n#col = [c for c in train if c not in ['id', 'air_store_id','visit_date','visitors']]\n\n#calculate qoq\nqoq= train.groupby(['air_store_id','year','quarter'])['visitors'].sum()\nqoq=qoq.unstack(0)\nqoq=pd.DataFrame(qoq.to_records())\nqoq=qoq.transpose()\nqoq.drop(['year','quarter'],inplace=True)\nqoq['2016Q2']=qoq[1]/qoq[0]*100\nqoq['2016Q3']=qoq[2]/qoq[1]*100\nqoq['2016Q4']=qoq[3]/qoq[2]*100\nqoq['2017Q1']=qoq[4]/qoq[3]*100\nlst=['2016Q2','2016Q3','2016Q4','2017Q1']\nqoq=qoq[lst]\nqoq['qoq_count']=qoq.apply(lambda x: x.count(), axis=1) \nqoq['qoq_growth']=qoq.apply(lambda x: x[x>100].count(), axis=1)\nqoq['qoq_growth_pct'] = round(qoq['qoq_growth'] /qoq['qoq_count'],2)\nqoq.index.names=['air_store_id']\nqoq.reset_index(inplace=True)\n\ntrain=pd.merge(train, qoq, how='left', on='air_store_id')\n\ntrain = train.fillna(0) #change to one for algo training\ntest = test.fillna(0)\n#df=df.rename(columns = {'two':'new_name'})\ntrain['v_no_reservation']=train['visitors']-train['reserve_visitors_ar']-train['reserve_visitors_hr']\nprint(round(time.time()-start1,4))",
      "execution_count": null,
      "outputs": []
    },
    {
      "metadata": {
        "_cell_guid": "4a834345-fd03-4ada-990d-3e33406da156",
        "_uuid": "3c10050050062d1c32f5b58e63b411fc157f641b"
      },
      "cell_type": "markdown",
      "source": "Time series of the data set"
    },
    {
      "metadata": {
        "_cell_guid": "cee5d240-95c1-4a63-afc6-24fb0dbbaa02",
        "_uuid": "18df6dfeb25a1c00635abfcd20c47de56df16519",
        "_kg_hide-input": true,
        "trusted": false,
        "collapsed": true
      },
      "cell_type": "code",
      "source": "print('Dates................')\nprint('train date- ,',train['visit_date'].min(),' to ',train['visit_date'].max())\nprint('test date - ,',test['visit_date'].min(),' to ',test['visit_date'].max())\nprint('holiday df- ,',data['hol']['visit_date'].min(),' to ',data['hol']['visit_date'].max())",
      "execution_count": null,
      "outputs": []
    },
    {
      "metadata": {
        "_cell_guid": "5fbcbeb7-44c6-42de-b4b5-e654e82194af",
        "_uuid": "a78ac86fb2950e59140a66e2f301b5c29c8c4308"
      },
      "cell_type": "markdown",
      "source": "**1. Geographical distribution of the store and holidays in Japan**"
    },
    {
      "metadata": {
        "_cell_guid": "2a38893e-13e1-4f04-8bab-7622c719a413",
        "_uuid": "1d23f13b2f4b7d58fc328626a6451c993958cdb6"
      },
      "cell_type": "markdown",
      "source": "Number of location of the stores- grouped by the same latitude + longitude"
    },
    {
      "metadata": {
        "_cell_guid": "b417ca81-2d68-4350-a283-1942242e1660",
        "_uuid": "31cef9e386be7a0c1e8be687edf0437eb244b706",
        "_kg_hide-input": true,
        "trusted": false,
        "collapsed": true
      },
      "cell_type": "code",
      "source": "print(len(store_7days.groupby(['latitude','longitude'])['latitude','longitude'].size().reset_index()), 'physical stores')",
      "execution_count": null,
      "outputs": []
    },
    {
      "metadata": {
        "_cell_guid": "0e9f91b4-63c7-4eed-a274-8a61c9228944",
        "_uuid": "f55c47d2824563e0ac58f5dee5d8b87154a88944"
      },
      "cell_type": "markdown",
      "source": "Stores location accross Japan in geographical heatmap"
    },
    {
      "metadata": {
        "_cell_guid": "c6e619a7-6a95-4fe3-8002-914b42d88583",
        "_uuid": "6be96ac8b7ce47ec55cafd33b53904d0f6871091",
        "_kg_hide-input": true,
        "trusted": false,
        "collapsed": true
      },
      "cell_type": "code",
      "source": "import folium\nfrom folium import plugins\n\nlocation =store_7days.groupby(['latitude', 'longitude']).size().reset_index()\nlocationheat = location[['latitude', 'longitude']]\nlocationheat = locationheat.values.tolist()\n\nmap1 = folium.Map(location=[39, 139], \n                        tiles = \"Stamen Watercolor\",# width=1000, height=500,\n                        zoom_start = 5)\nheatmap=plugins.HeatMap(locationheat).add_to(map1)\nmap1\n",
      "execution_count": null,
      "outputs": []
    },
    {
      "metadata": {
        "_cell_guid": "e6d433ce-a806-4d9b-a9c9-62f3878f2b90",
        "_uuid": "df386b20201342a6f02011931fd368b345a81ad3"
      },
      "cell_type": "markdown",
      "source": "Store and their genres accross Japan. Probably a physical store has multiple genres with different air_store_id"
    },
    {
      "metadata": {
        "_cell_guid": "7ec22a27-3da2-4009-9581-9a66ce5a69cf",
        "_uuid": "3bb5d734cedbaf7e9face6ed7e2c32952a0c9159",
        "_kg_hide-input": true,
        "trusted": false,
        "collapsed": true
      },
      "cell_type": "code",
      "source": "location =store_7days.groupby(['air_store_id','air_genre_name'])['latitude','longitude'].mean().reset_index()\nlocationlist = location[['latitude', 'longitude']]\nlocationlist = locationlist.values.tolist()\nmap2 = folium.Map(location=[39, 139], \n                        tiles = \"Stamen Toner\",# width=1000, height=500,\n                        zoom_start = 5)\nmarker_cluster=plugins.MarkerCluster().add_to(map2)\nfor point in range(0, len(location)):\n    folium.Marker(locationlist[point], popup=location['air_genre_name'][point], \n    icon=folium.Icon(color='white', icon_color='red', \n                     #icon='fa fa-info-circle',\n                     icon='fa fa-circle-o-notch fa-spin',\n                     angle=0, \n                     prefix='fa')).add_to(marker_cluster)\nmap2",
      "execution_count": null,
      "outputs": []
    },
    {
      "metadata": {
        "_cell_guid": "f613b931-790d-466d-bfe0-be2fe3a21b9b",
        "_uuid": "4c37b02328060171dd55d93957e89fd3023684ce"
      },
      "cell_type": "markdown",
      "source": "Visualising holidays and weekend for the prediction period. There will be 3 consecutive holiday in May."
    },
    {
      "metadata": {
        "_cell_guid": "5bd38be4-2973-4b6b-a275-62f0517c3cc8",
        "_uuid": "3f99bd1f53583d131f1bb74cec97c43d6e01a1fb",
        "_kg_hide-input": true,
        "trusted": false,
        "collapsed": true
      },
      "cell_type": "code",
      "source": "data['hol']['visit_date'] = pd.to_datetime(data['hol']['visit_date'])\ndata['hol']['day_month'] = data['hol']['visit_date'].dt.day\ndata['hol']['day'] = data['hol']['visit_date'].dt.weekday\ndata['hol']['week'] = data['hol']['visit_date'].dt.week\ndata['hol']['month'] = data['hol']['visit_date'].dt.month\ndata['hol']['quarter'] = data['hol']['visit_date'].dt.quarter\ndata['hol']['year'] = data['hol']['visit_date'].dt.year\ndata['hol']['visit_date'] = data['hol']['visit_date'].dt.date\n\ndef wkn(x):\n    if x>4:\n        return 1\n    else:\n        return 0\n\ndata['hol']['weekend']=data['hol']['day'].apply(wkn)\n\nhols201704=data['hol'][(data['hol']['year']==2017)&(data['hol']['month']==4)]\nhols=hols201704[['day_month','holiday_flg']].set_index('day_month')\nwknd=hols201704[['day_month','weekend']].set_index('day_month')\nhols201705=data['hol'][(data['hol']['year']==2017)&(data['hol']['month']==5)]\nhols2=hols201705[['day_month','holiday_flg']].set_index('day_month')\nwknd2=hols201705[['day_month','weekend']].set_index('day_month')\n\nf, ax=plt.subplots(2,1, figsize=(15,4))\nhols.plot(kind='bar', ax=ax[0], color='b')\nwknd.plot(kind='bar', ax=ax[0], color='grey')\nhols2.plot(kind='bar', ax=ax[1], color='b')\nwknd2.plot(kind='bar', ax=ax[1], color='grey')\nax[0].set_title('April & May 2017 Holidays & Weekends')",
      "execution_count": null,
      "outputs": []
    },
    {
      "metadata": {
        "_cell_guid": "ea20fa3d-dcae-4333-a929-71b0c1dc5715",
        "_uuid": "a7dc3c0ce80985d533fb11cde85ea0b4a992c71d"
      },
      "cell_type": "markdown",
      "source": "**2. Number of visitors and genres trend **"
    },
    {
      "metadata": {
        "_cell_guid": "c53a363e-012e-41e1-9b74-d047f76d1958",
        "_uuid": "f06196eaddee15920e2c15d127d0ca6e87a98e98"
      },
      "cell_type": "markdown",
      "source": "Visitors and reservation time series. Walk in visitors are far more than customers with reservation. A drastic drop in number of visitors during new year due to store closure at certain places.\n"
    },
    {
      "metadata": {
        "_cell_guid": "f697c2bd-9916-472b-bfaa-8c69088cc588",
        "_uuid": "4d754a04e71d35966de08e6f3c41f9091004cdaa",
        "_kg_hide-input": true,
        "trusted": false,
        "collapsed": true
      },
      "cell_type": "code",
      "source": "#Visitor each day\nf,ax = plt.subplots(1,1,figsize=(15,8))\nplt1 = train.groupby(['visit_date'], as_index=False).agg({'visitors': np.sum})\nplt2 = train.groupby(['visit_date'], as_index=False).agg({'reserve_visitors_ar': np.sum})\nplt3 = train.groupby(['visit_date'], as_index=False).agg({'reserve_visitors_hr': np.sum})\nplt1=plt1.set_index('visit_date')\nplt2=plt2.set_index('visit_date')\nplt3=plt3.set_index('visit_date')\nplt1.plot(color='salmon', kind='area', ax=ax)\nplt2.plot(color='cornflowerblue', kind='line', ax=ax)\nplt3.plot(color='y', kind='line', ax=ax)\nplt.ylabel(\"Sum of Visitors\")\nplt.title(\"Visitor and Reservations\")",
      "execution_count": null,
      "outputs": []
    },
    {
      "metadata": {
        "_cell_guid": "89af1437-2023-4d95-8d01-72db34a3164d",
        "_uuid": "2725ba000a01971d801fbb3526d5ca05745d8052"
      },
      "cell_type": "markdown",
      "source": "Number of air_store_id  increased by 150% in mid 2016"
    },
    {
      "metadata": {
        "_cell_guid": "18e2bdfd-d4d8-48d6-ad45-cb102a2a3a49",
        "_uuid": "f0bcd7575a430cef7b7608fd2143e578fb2149fd",
        "_kg_hide-input": true,
        "trusted": false,
        "collapsed": true
      },
      "cell_type": "code",
      "source": "f,ax = plt.subplots(1,1, figsize=(15,5))\ngenre= train.groupby(['visit_date'])['air_store_id'].size()\ngenre.plot(kind='area',  color= 'chocolate', grid=True, ax=ax, legend=True)\nplt.ylabel(\"Number Stores\")\nplt.title(\"Number Unique Store ID\")",
      "execution_count": null,
      "outputs": []
    },
    {
      "metadata": {
        "_cell_guid": "2a5b3c8d-8069-4ce2-bf89-89585ee3fbe8",
        "_uuid": "97271bef641d4497c1bfcba9196f280aa0a5dd68"
      },
      "cell_type": "markdown",
      "source": "**3. Visitors by genre**"
    },
    {
      "metadata": {
        "_cell_guid": "afd1027c-a656-460d-8337-083c89299b8e",
        "_uuid": "b010b459f8f95f8c5232738920184f5a13f30978"
      },
      "cell_type": "markdown",
      "source": "Total visitor by air_genre_name. Izakaya & Cafe/Sweets are the two  most populr genres"
    },
    {
      "metadata": {
        "_cell_guid": "3a0ff2f3-c502-4989-945e-946208348285",
        "_uuid": "35b84a8632aade488aa164f37e68d1009760804f",
        "_kg_hide-input": true,
        "trusted": false,
        "collapsed": true
      },
      "cell_type": "code",
      "source": "f,ax=plt.subplots(1,1, figsize=(10,8))\ngenre=train.groupby(['air_genre_name'],as_index=False)['visitors'].sum()\ngenre.sort_values(by='visitors', ascending=True, inplace=True)\ngenre['air_genre'] =[i for i,x in enumerate(genre['air_genre_name'])] \ngenre = genre.sort_values(by='visitors', ascending=False)#.reset_index()\nmy_range = genre['air_genre']\nplt.hlines(y=my_range, xmin=0, xmax=genre['visitors'], color='goldenrod',alpha=0.8) #[‘solid’ | ‘dashed’ | ‘dashdot’ | ‘dotted’]\nplt.plot(genre['visitors'], my_range, \"o\",markersize=25,label='visitors',color='orangered')\n\n# Add titles and axis names\nplt.yticks(my_range, genre['air_genre_name'],fontsize=15)\nplt.title(\"Total visitors by air_genre_name\", loc='center')\nplt.xlabel('Score')\nplt.ylabel('Features')\n#plt.legend()",
      "execution_count": null,
      "outputs": []
    },
    {
      "metadata": {
        "_cell_guid": "26febeac-7ca5-44ef-a2c8-6473e7bfa693",
        "_uuid": "05ca2eeb2168b1a65eeb47a7c141228c9b3385cf"
      },
      "cell_type": "markdown",
      "source": "\n- some of genres are new addition like - international cuisine, karaoke/party\n- Yakiniku/korean genre is showing increasing demand\n- Numbers of visitors for karaoke/party frequently surge in numbers on weekends"
    },
    {
      "metadata": {
        "_cell_guid": "12e3e572-eb99-41a8-abfb-ead32cdfdddb",
        "_uuid": "54e81e390f44f47353a019f09ab6f98672aee2eb",
        "_kg_hide-input": true,
        "trusted": false,
        "collapsed": true
      },
      "cell_type": "code",
      "source": "ax = sns.FacetGrid(train, col=\"air_genre_name\", col_wrap=4, size=3, hue='air_genre_name',margin_titles=True,\n                  aspect=1.5, palette='husl', ylim=(0,150))\nax = ax.map(plt.plot, \"visit_date\", \"visitors\",  marker=\".\", linewidth = 0.5)",
      "execution_count": null,
      "outputs": []
    },
    {
      "metadata": {
        "_cell_guid": "637a1152-1bda-4f16-8f3c-b38f1f07dab6",
        "_uuid": "bab980e09478dc8d803c0c102a78b50956af748a"
      },
      "cell_type": "markdown",
      "source": "**4. Visitors by weekdays trend and their group size**"
    },
    {
      "metadata": {
        "_cell_guid": "b3c233bf-6b87-47fb-8e53-cb18e934a044",
        "_uuid": "632d0d2df2369b3b244ee7eb7b19dc94dcabeb39",
        "_kg_hide-input": true
      },
      "cell_type": "markdown",
      "source": "Friday, Saturday and Sunday are the busiest days of the week"
    },
    {
      "metadata": {
        "_cell_guid": "b1fe1814-d360-4597-9af5-a8e1a40dcdc1",
        "_uuid": "b8c84c81cb799eb05f68ad3a3652f03c3e7f5011",
        "_kg_hide-input": true,
        "trusted": false,
        "collapsed": true
      },
      "cell_type": "code",
      "source": "pvt=pd.pivot_table(train, index=['year','week'], columns='dow',values='visitors',aggfunc=[np.mean],fill_value=0)\npvt=pd.DataFrame(pvt.to_records())\npvt.columns=[pvt.replace(\"('mean', \", \"\").replace(\")\", \"\") for pvt in pvt.columns]\npvt['year_week']=pvt['year'].astype(str) +'-'+ pvt['week'].astype(str)\npvt=pvt.set_index('year_week')\npvt.drop(['year','week'], axis=1,inplace=True)\nf, ax=plt.subplots(1,1, figsize=(15,8))\npvt.plot(kind='line', ax=ax,cmap='inferno')\nplt.ylabel(\"Sum of Visitors\")\nplt.xlabel(\"Week\")\nplt.title(\"Visitors by Day of the Week \")\n",
      "execution_count": null,
      "outputs": []
    },
    {
      "metadata": {
        "_cell_guid": "c9c61af4-2664-4ff4-aa18-e6c10a1b4cb2",
        "_uuid": "39aec8a483ea0100871437bcbc894079cb2d2997",
        "_kg_hide-input": true,
        "trusted": false,
        "collapsed": true
      },
      "cell_type": "code",
      "source": "print('Number of total visitors- ', train['visitors'].sum())\nprint('Number of stores- ', )\nprint('Number of average daily visitors per air_store_id-', round(train['visitors'].mean(),2))",
      "execution_count": null,
      "outputs": []
    },
    {
      "metadata": {
        "_cell_guid": "61f19b8c-7e94-4f79-b1ac-0c4a1d5b0dac",
        "_uuid": "fa023e6a672128118df9e014ef9347cd50f9e88f"
      },
      "cell_type": "markdown",
      "source": "Visitors, group size and daily trend:\nGenerally, highest number of visitors is on Friday, Saturday and Sunday. The peak day of the week is Saturday, while if it is holiday the peak day will be Thursday and Friday. "
    },
    {
      "metadata": {
        "_cell_guid": "6b398e68-8b33-4875-ad11-82917c50bb9a",
        "_uuid": "55195c1526f6dae7105821ede23d2c94efa4506f",
        "_kg_hide-input": true,
        "trusted": false,
        "collapsed": true
      },
      "cell_type": "code",
      "source": "max_date=max(train['visit_date'])\none_year = datetime.timedelta(days=364)\ncmap='inferno'\nyear_ago= max_date - one_year\ntrain2=train#[train['visit_date']>year_ago]\npvt=train2.groupby(['dow','dow_name'])['visitors'].mean().reset_index()\n\ntrain2=train.loc[(train['day']<8)&(train['holiday_flg']==1)]\npvt2=train2.groupby(['dow','dow_name'])['visitors'].mean().reset_index()\n\ntrain3=train.loc[train['holiday_flg']==1]\npvt3=train3.groupby(['dow','dow_name'])['visitors'].mean().reset_index()\ntrain4=train.loc[(train['long_wknd']==1)]\npvt4=train4.groupby(['dow','dow_name'])['visitors'].mean().reset_index()\n\npvt5=pd.pivot_table(train, index=['dow'], columns='month',values='visitors',aggfunc=[np.mean],fill_value=0)#.reset_index()\npvt5=pd.DataFrame(pvt5.to_records())\npvt5.columns=[pvt5.replace(\"('mean', \", \"\").replace(\")\", \"\") for pvt5 in pvt5.columns]\npvt5=pvt5.set_index('dow')\n\nf, ax=plt.subplots(2,2, figsize=(15,10), sharey=False)\nax[0,0].bar(pvt['dow'] ,pvt['visitors'],color='darkturquoise')\nax[0,1].bar(pvt2['dow'] ,pvt2['visitors'],color='slategrey')\nax[1,0].bar(pvt3['dow'] ,pvt3['visitors'],color='thistle')\nsns.heatmap(pvt5, ax=ax[1,1],cmap=cmap)\nax[0,0].set_title('Mean Daily Visitors')\nax[0,1].set_title('Mean Daily Visitors on first 7 days of the Month')\nax[1,0].set_title('Mean Daily Visitors on holiday')\nax[1,1].set_title('DOW vs Month mean visitors')\n\nax[0,0].set_ylim(0,30)\nax[0,1].set_ylim(0,30)\nax[1,0].set_ylim(0,30)\n#ax[1,1].set_xlim(0,100)\n#plt.xlabel(\"Month\")",
      "execution_count": null,
      "outputs": []
    },
    {
      "metadata": {
        "_cell_guid": "1b7b3b3e-7640-4079-8718-868b2a3b3ce8",
        "_uuid": "75fc032cb78a204b9942cefaed685b3628d4449b"
      },
      "cell_type": "markdown",
      "source": "Larger mean visitors on holiday except day 5 - Saturday."
    },
    {
      "metadata": {
        "_cell_guid": "9c008202-73be-4701-93af-52b1ebfd6746",
        "_uuid": "a2cba6bc6c09a0ee73e7312979783e5d8fe216d8",
        "_kg_hide-input": true,
        "trusted": false,
        "collapsed": true
      },
      "cell_type": "code",
      "source": "plt1=train['visitors'].value_counts().reset_index().sort_index()\nfig, ax = plt.subplots(figsize=(15, 6), nrows=1, ncols=2, sharex=False, sharey=False)\nax[0].bar(plt1['index'] ,plt1['visitors'],color='limegreen')\nax[1]= sns.boxplot(y='visitors',x='dow', data=train,hue='holiday_flg',palette=\"Set3\")\nax[1].set_title('Number of daily visitors by day of the week')\nax[0].bar(plt1['index'] ,plt1['visitors'],color='limegreen')\nax[0].set_title('Frequency')\nax[0].set_xlim(0,100)\nax[1].set_ylim(0,100)\nax[1].legend(loc=1)",
      "execution_count": null,
      "outputs": []
    },
    {
      "metadata": {
        "_cell_guid": "54ea5665-c835-4685-98f8-027c583b5672",
        "_uuid": "0be13704db0fcf94f90b23e386d592493b1e8e57"
      },
      "cell_type": "markdown",
      "source": "**5. Reservations trends**"
    },
    {
      "metadata": {
        "_cell_guid": "f94500ca-71ab-4160-9fbf-e2b684e7b3c3",
        "_uuid": "2a2fdda5d984b0af2a2f07775c1525dcf2c94dd9",
        "_kg_hide-input": true,
        "trusted": false,
        "collapsed": true
      },
      "cell_type": "code",
      "source": "print('Total air reserve visitors - ',data['ar_hour']['reserve_visitors'].sum())\nprint('Total hpg reserve visitors - ',data['hr_hour']['reserve_visitors'].sum())",
      "execution_count": null,
      "outputs": []
    },
    {
      "metadata": {
        "_cell_guid": "b8ddc47f-e34d-453b-a281-bd5ee1c4f861",
        "_uuid": "af8d38a8170990139c81f52ab918f6e2b6ca6531"
      },
      "cell_type": "markdown",
      "source": "Most of the customers are making reservation for the period of one week or visited restaurant on day 4 (Friday) & day 5 (Saturday) the most. There is noticably different reservation behaviour between air and hpg customers, where hpg visitors tend to book reservation throughout the day but air visitors doing it at later part of the day"
    },
    {
      "metadata": {
        "_cell_guid": "3d701f45-9d78-4888-897b-fa741660e31a",
        "_uuid": "e300d91fd1e5e46e207e5545798748c16a481ecd",
        "_kg_hide-input": true,
        "trusted": false,
        "collapsed": true
      },
      "cell_type": "code",
      "source": "data['ar_hour']['dow_reserve'] = data['ar_hour']['reserve_datetime'].dt.weekday\ndata['ar_hour']['dow_visit'] = data['ar_hour']['visit_datetime'].dt.weekday\ndata['hr_hour']['dow_reserve'] = data['hr_hour']['reserve_datetime'].dt.weekday\ndata['hr_hour']['dow_visit'] = data['hr_hour']['visit_datetime'].dt.weekday\nair_res= data['ar_hour'].groupby(['reserve_day_ar'],as_index=False)['reserve_visitors'].sum()[:40]\nhpg_res= data['hr_hour'].groupby(['reserve_day_hr'],as_index=False)['reserve_visitors'].sum()[:40]\nair_res2=data['ar_hour'].groupby(['dow_visit',],as_index=False)['reserve_visitors'].sum()\nhpg_res2=data['hr_hour'].groupby(['dow_visit',],as_index=False)['reserve_visitors'].sum()\nair_res3=data['ar_hour'].groupby(['reserve_hour','visit_hour'])['reserve_visitors'].sum().unstack()\nhpg_res3=data['hr_hour'].groupby(['reserve_hour','visit_hour'])['reserve_visitors'].sum().unstack()\n\nf, ax=plt.subplots(3,2, figsize=(15,12),sharey=False)\nax[0,0].bar(air_res['reserve_day_ar'] ,air_res['reserve_visitors'],color='royalblue')\nax[0,1].bar(hpg_res['reserve_day_hr'] ,hpg_res['reserve_visitors'],color='tomato')\nax[1,0].bar(air_res2['dow_visit'] ,air_res2['reserve_visitors'],color='royalblue')\nax[1,1].bar(hpg_res2['dow_visit'] ,hpg_res2['reserve_visitors'],color='tomato')\nsns.heatmap(air_res3, ax=ax[2,0],cmap='inferno')\nsns.heatmap(hpg_res3, ax=ax[2,1],cmap='inferno')\nax[0,0].set_title('Air Reservation in Number of Days')\nax[0,1].set_title('Hpg Reservation in Number of Days')\nax[1,0].set_title('Air reserve visitors by dow')\nax[1,1].set_title('Hpg reserve visitors by dow')\nax[2,0].set_title('Air Reserve Hour vs Visit hour')\nax[2,1].set_title('Hpg Reserve Hour vs Visit hour')",
      "execution_count": null,
      "outputs": []
    },
    {
      "metadata": {
        "_cell_guid": "6281973a-d350-4c06-8d76-e6d80f47d0b7",
        "_uuid": "40c4221251203f8286154d31fa477e53b6f0d064"
      },
      "cell_type": "markdown",
      "source": "**6. Productivity by air_store_id**"
    },
    {
      "metadata": {
        "_cell_guid": "95951d4a-ce17-44cd-82ee-1b0c29301edc",
        "_uuid": "08d387161daca5d658c18c394c5f837bc5ec44ac",
        "_kg_hide-input": true,
        "trusted": false,
        "collapsed": true
      },
      "cell_type": "code",
      "source": "store_mean= train.groupby(['air_store_id'], as_index=False)['visitors'].mean().rename(columns={'visitors':'overall_mean'})\ntrain=pd.merge(train, store_mean, how = 'left',on='air_store_id')\n\ntrain['vis_qtl']=pd.qcut(train['overall_mean'], 4, labels=['Quartile 4','Quartile 3','Quartile 2','Quartile 1'])\nquartile=train.groupby(['vis_qtl'],as_index=False).agg({'air_store_id':lambda x: len(x.unique()),\n                                               'mean_visitors':lambda x: x.mean(),\n                                               'visitors':lambda x: x.sum()})\nquartile.rename(columns={'air_store_id':'stores', 'visitors':'total_visitors'},inplace=True)\nquartile.sort_values(by='total_visitors', ascending=False,inplace=True)\nquartile['cumulative_visitors'] = quartile['total_visitors'].cumsum()/quartile['total_visitors'].sum()\nquartile",
      "execution_count": null,
      "outputs": []
    },
    {
      "metadata": {
        "_cell_guid": "38fdc3d3-59c8-42ae-8029-826ef9953a97",
        "_uuid": "11cfc4a73d9acfaedfee3a9430300d3c5597d363"
      },
      "cell_type": "markdown",
      "source": "We stacked and ordered the store according to average productiviy per day and arrange it form best to the lowest and cut the number of air_store_id into 4. \"air_store_id\" in Quartile 1 and Quartile 2 (412 which 50% of the total) contribute to 70% of the total visitors."
    },
    {
      "metadata": {
        "_cell_guid": "b813e845-578f-47c5-aa11-c03bd35ec472",
        "_uuid": "478e8412cce0c4ddf25a8f3dc643522735b6be1c",
        "_kg_hide-input": true,
        "trusted": false,
        "collapsed": true
      },
      "cell_type": "code",
      "source": "tot_visitors = quartile[['vis_qtl','total_visitors']]\ntot_visitors2 = quartile[['vis_qtl','cumulative_visitors']]\ntot_visitors.set_index('vis_qtl',inplace=True)\ntot_visitors2.set_index('vis_qtl',inplace=True)\nquartile.sort_values(by='total_visitors', ascending=False,inplace=True)\nf, ax=plt.subplots(1,2, figsize=(12,4))\ntot_visitors.plot(kind='bar',  ax=ax[0],color='y',width=0.8)\ntot_visitors2.plot(kind='bar',  ax=ax[1],color='darkseagreen',width=0.8)\nax[0].set_title('Total visitors by Store Productivity Quartile')\nax[1].set_title('%Cumulative visitors  by Store Productivity Quartile')\n",
      "execution_count": null,
      "outputs": []
    },
    {
      "metadata": {
        "_cell_guid": "6a628a47-4ff9-4c1d-9b8d-a53fd21c6d90",
        "_uuid": "cae95dd079bc682d7476c92393cdac6bc3428ea7"
      },
      "cell_type": "markdown",
      "source": "**Feature Engineering**\n\nVisualising feature engineering. We are exploring options and will test all of them in our model. "
    },
    {
      "metadata": {
        "_cell_guid": "64b625dc-73b2-4280-9ca4-98c378588039",
        "_uuid": "30dc1fcb78dc7331a6fbe06397126194313699f9"
      },
      "cell_type": "markdown",
      "source": ""
    },
    {
      "metadata": {
        "_cell_guid": "e994809e-74c3-49b2-8667-0609eaea03a2",
        "_uuid": "6e2b0b1fcf75a1b389ec62bf9869b46a906e9c22"
      },
      "cell_type": "markdown",
      "source": "\nOutliers\nIdentifying outliers and treating them accordingly in our model building. Intuitively, area and dow are probably a good grouping to programatically find outliers. I believe that area and dow are among two most important factors that determines business traffic as it has similar holiday, celebration, culture and daily traffic.\nnote: ol_1 shows number of observations that have number visitors 1 standard deviation above the mean for air_are_name and dow grouping."
    },
    {
      "metadata": {
        "_cell_guid": "e29c6b64-288d-4eb2-aedd-326c4af384ad",
        "_uuid": "4a3f5971bf0b6e2e702a3f8e9925241296beebc7",
        "_kg_hide-input": true,
        "trusted": false,
        "collapsed": true
      },
      "cell_type": "code",
      "source": "# outliers based on air_area_name & dow grouping\narea_dow_std_df=train.groupby(['air_area_name','dow'])['visitors'].std().reset_index().rename(columns={'visitors':'std_area_dow'})\narea_dow_mean_df=train.groupby(['air_area_name','dow'])['visitors'].mean().reset_index().rename(columns={'visitors':'mean_area_dow'})\ntrain2=pd.merge(train, area_dow_std_df, how=\"left\", on=['air_area_name','dow'])\ntrain2=pd.merge(train2, area_dow_mean_df, how=\"left\", on=['air_area_name','dow'])\n\nx=train2['visitors']\ny=train2['mean_area_dow']\nz=train2['std_area_dow']\nol_df=[]\nfor n in range(10):\n    train2['ol_{}'.format(n)]= [1 if (x>y+z*n) else 0 for x, y, z in zip(x,y,z)]\n    ol_dfs=train2['ol_{}'.format(n)].value_counts()\n    ol_df.append(ol_dfs)\n    \nol_df=pd.DataFrame(ol_df)   \nol_df.index.name='outliers'\n\nf, ax=plt.subplots(1,1, figsize=(8,5))\nol_df.plot(kind='barh',width=1,ax=ax, color=['dodgerblue','violet'])\nax.set_title('Count of Outliers Base on multiple std from mean - grouped by air_area_name & dow')\nax.set_ylabel('X* Standard Deviation From Mean')\n# Adding a title and a subtitle\nplt.text(x = 100000, y = 11, s = \"Outliers\",fontsize = 25, weight = 'bold', alpha = .75)\n",
      "execution_count": null,
      "outputs": []
    },
    {
      "metadata": {
        "collapsed": true,
        "_cell_guid": "037dcc9b-a772-422b-ae08-1b692a434d2c",
        "_uuid": "208c003dcbe3587673ed777de9a06084c095ef45"
      },
      "cell_type": "markdown",
      "source": "**Please Upvote if you find it useful**"
    },
    {
      "metadata": {
        "collapsed": true,
        "_cell_guid": "efd8a2dd-7c15-470d-bad4-dbf8e7a9b719",
        "_uuid": "dae439b802c6cad5ed7193d534bc8a1d3687ae86",
        "trusted": false
      },
      "cell_type": "code",
      "source": "",
      "execution_count": null,
      "outputs": []
    }
  ],
  "metadata": {
    "language_info": {
      "mimetype": "text/x-python",
      "version": "3.6.4",
      "name": "python",
      "codemirror_mode": {
        "version": 3,
        "name": "ipython"
      },
      "nbconvert_exporter": "python",
      "pygments_lexer": "ipython3",
      "file_extension": ".py"
    },
    "kernelspec": {
      "display_name": "Python 3",
      "language": "python",
      "name": "python3"
    }
  },
  "nbformat": 4,
  "nbformat_minor": 1
}