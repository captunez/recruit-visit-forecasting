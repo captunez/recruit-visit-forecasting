{
  "cells": [
    {
      "metadata": {
        "_cell_guid": "85f86976-04e0-4297-877d-35c60fc7f09b",
        "_uuid": "668fc5151cddeacf26f65b7fba134666804a7441"
      },
      "cell_type": "markdown",
      "source": "# Introduction\n\nThank you all for your support and time. My goal with this kernel is to provide a broad first look at the weather stations.\n\nIf you want a more exhaustive and detailed look at the data and how to use it, please check out my new kernel here: https://www.kaggle.com/huntermcgushion/exhaustive-weather-eda-file-overview\n<br>\nI would love to hear your thoughts on both this kernel and the one linked above. Thanks again for your time!"
    },
    {
      "metadata": {
        "_cell_guid": "d8dbcf26-ece8-478e-a49b-ab54371f21a6",
        "_uuid": "ecd415f7f02680d4f4d5400050664ebf1e0ae65a",
        "trusted": false,
        "collapsed": true
      },
      "cell_type": "code",
      "source": "import numpy as np\nimport pandas as pd\nimport seaborn as sns\nimport matplotlib.pyplot as plt\nimport os\nfrom subprocess import check_output\nfrom IPython.display import display\nfrom IPython.core.display import HTML\nimport plotly\nimport plotly.offline as py\n\npy.init_notebook_mode(connected=False)\nsns.set_style('whitegrid')\n\n# Because the weather data directory is compressed, you can find it like this:\nweather_dir = '../input/rrv-weather-data'\n\nprint('##### ../input/ Contents:')\nprint(os.listdir(\"../input\"))\n\nprint('\\n##### {} Contents:'.format(weather_dir))\nprint(os.listdir(weather_dir))\n# Note that the contents of the below dir consist of another dir of the same name  \nprint('\\n##### {} Contents:'.format('{}/1-1-16_5-31-17_Weather'.format(weather_dir)))\nprint(os.listdir('{}/1-1-16_5-31-17_Weather'.format(weather_dir)))\nprint('\\n##### {} Contents:'.format('{}/1-1-16_5-31-17_Weather/1-1-16_5-31-17_Weather'.format(weather_dir)))\nprint(len(os.listdir('{}/1-1-16_5-31-17_Weather/1-1-16_5-31-17_Weather'.format(weather_dir))))\n",
      "execution_count": null,
      "outputs": []
    },
    {
      "metadata": {
        "collapsed": true,
        "_cell_guid": "1ba65e33-2174-4ed0-9f69-d98618f480c7",
        "_uuid": "39ea56cf9bbc7a127ebfa927ed0687597b291a31",
        "trusted": false
      },
      "cell_type": "code",
      "source": "# air_store_info = pd.read_csv('{}/air_store_info_with_nearest_active_station.csv', index_col=False)\nair_store_info = pd.read_csv('{}/air_store_info_with_nearest_active_station.csv'.format(weather_dir))\n# hpg_store_info = pd.read_csv('../input/rrv-weather-data/hpg_store_info_with_nearest_active_station.csv', index_col=False)\nhpg_store_info = pd.read_csv('{}/hpg_store_info_with_nearest_active_station.csv'.format(weather_dir))\n\nair_store_info['coordinate_count'] = air_store_info.groupby(\n    ['latitude', 'longitude']\n).latitude.transform('count').astype(int)\nhpg_store_info['coordinate_count'] = hpg_store_info.groupby(\n    ['latitude', 'longitude']\n).latitude.transform('count').astype(int)",
      "execution_count": null,
      "outputs": []
    },
    {
      "metadata": {
        "_cell_guid": "5103148d-7c56-49b3-a798-2e7865020b4f",
        "_uuid": "c13147c18aebb4ae191d1317019570d465cbb5d3",
        "trusted": false,
        "collapsed": true
      },
      "cell_type": "code",
      "source": "display(air_store_info.head())\ndisplay(hpg_store_info.head())",
      "execution_count": null,
      "outputs": []
    },
    {
      "metadata": {
        "scrolled": false,
        "_cell_guid": "5281ddf9-cfde-44a3-890f-93c47adb6fbe",
        "_uuid": "b7e4170a67fd8168afa20e88eb743a0a919edd7c",
        "trusted": false,
        "collapsed": true
      },
      "cell_type": "code",
      "source": "sns.distplot(air_store_info['station_vincenty'], rug=True, kde=True)\nplt.title('AIR - Distances (km) to Stations Distribution')\nplt.show()\n\n# NOTE: This one might take a minute to show up\nsns.distplot(hpg_store_info['station_vincenty'], rug=True, kde=True)\nplt.title('HPG - Distances (km) to Stations Distribution')\nplt.show()",
      "execution_count": null,
      "outputs": []
    },
    {
      "metadata": {
        "_cell_guid": "6e0a1d95-9a36-43d4-a469-8716a51c64d9",
        "_uuid": "45eed61fb61e2891f5d43953bdb5c2c494d6b357"
      },
      "cell_type": "markdown",
      "source": "The above distibution plots help visualizing the distances between our stores and nearest stations, but we can do better. \n<br>\nBelow, we're looking at joint plots with scatter plot overlays for both the AIR and HPG stores.\n<br>\nThey give a clearer picture of just how many stores (at unique coordinates) are a given distance away from their closest station."
    },
    {
      "metadata": {
        "_cell_guid": "c1d60227-fb20-428d-936f-a993b6dfe716",
        "_uuid": "301d77e37f19438f995ddfcd3a7dc6c08c8593a4",
        "trusted": false,
        "collapsed": true
      },
      "cell_type": "code",
      "source": "p = sns.jointplot(x='station_vincenty', y='coordinate_count', data=air_store_info, kind='kde')\nplt.title('AIR KDE Joint Plot', loc='left')\np.plot_joint(plt.scatter, c='w', s=30, linewidth=1, marker='x')\nplt.show()\n\np = sns.jointplot(x='station_vincenty', y='coordinate_count', data=hpg_store_info, kind='kde')\nplt.title('HPG KDE Joint Plot', loc='left')\np.plot_joint(plt.scatter, c='w', s=30, linewidth=1, marker='x')\nplt.show()",
      "execution_count": null,
      "outputs": []
    },
    {
      "metadata": {
        "_cell_guid": "a2edb993-b9a1-41c1-8900-9c2a672da77d",
        "_uuid": "89e336683161119e17afb83ab0590b031f4a3ce6"
      },
      "cell_type": "markdown",
      "source": "**What Are We Looking At?**\n\nAs we can see from the joint plots, most of the closest weather stations are within about 8 km of the store we are looking at.\n\nThe AIR outliers are: 3 unique store coordinates whose nearest stations are between 10 and 12 km away.\n<br>\nThe coordinate_count values seem low, so there are probably under 20 AIR stores that are more than 10 km away from a station.\n\nThe HPG outliers are more numerous and confusing, largely because there are 4,690 HPG stores, compared to AIR's 829.\n<br>\nThey seem to be: a little over 100 stores (4 unique coordinates) that are between 12 and 15 km from their nearest station, along with about 10 more that are a whopping 17.5 km away.\n\nBut that's not really specific enough. Let's check the actual data..."
    },
    {
      "metadata": {
        "_kg_hide-input": false,
        "_cell_guid": "5a56d01c-40f6-4131-86bb-b2b0e0d19c77",
        "_uuid": "527d583bb003097e5e3564a2fda9002e02fc5276",
        "trusted": false,
        "collapsed": true
      },
      "cell_type": "code",
      "source": "def view_distances(df, distance, cols=['station_vincenty', 'coordinate_count']):\n    return df[cols].groupby(cols).filter(\n         lambda _: _[cols[0]].mean() > distance\n    ).drop_duplicates().sort_values(by=cols).reset_index(drop=True)\n\ndisplay(view_distances(air_store_info, 8))",
      "execution_count": null,
      "outputs": []
    },
    {
      "metadata": {
        "_cell_guid": "7ddc3f75-a844-465f-b5c6-1293ca1dc4b2",
        "_uuid": "345ae927770483bc05980180d74abfb3983ab7c9"
      },
      "cell_type": "markdown",
      "source": "For the AIR stores, there are 16 stores (3 unique coordinates) that are between 8 and 8.5 km away from their closest station.\n<br>\nThere are also 13 stores (3 unique coordinates) that are more than 10 km away from a station.\n<br>\nThe furthest an AIR store is from an active weather station is 11.48 km."
    },
    {
      "metadata": {
        "_cell_guid": "65b13886-3979-4e8b-9f20-a85057873c52",
        "_uuid": "b382729d33eab22cc47571bbbe42a911b42c4503",
        "trusted": false,
        "collapsed": true
      },
      "cell_type": "code",
      "source": "display(view_distances(hpg_store_info, 10))",
      "execution_count": null,
      "outputs": []
    },
    {
      "metadata": {
        "collapsed": true,
        "_cell_guid": "e925d0fb-25f1-436d-89d1-28fa2a33392a",
        "_uuid": "e43cb04ddba73ee1dfcf4c2b07c42eddb427028a"
      },
      "cell_type": "markdown",
      "source": "For the HPG stores, we see 116 stores (6 unique coordinates) between 10 and 13.14 km away from a station.\n<br>\nThen, there are 14 stores (1 unique coordinate pair) located 17.18 km from a station.\n\n# Maps\nBelow are a couple maps showing the locations of all AIR and HPG stores, as well as all active and terminated weather stations.\nThe maps were originally created using Plot.ly, with MapBox, which made some beautiful maps that very clearly showed the positions of our stores and weather stations. Unfortunately, MapBox requires the use of an access token, which isn't supposed to be made public. So I had to jump through a few hoops to show the plot below without explicitly declaring my MapBox access token, and I'm still not very confident in its security... Nonetheless, I wanted you to see these:"
    },
    {
      "metadata": {
        "scrolled": false,
        "_kg_hide-input": true,
        "_cell_guid": "56e32c21-52f7-4987-a4dc-63857e470aea",
        "_uuid": "8098c972fedffc8663e2788b33c352737e3a9c5e",
        "trusted": false,
        "collapsed": true
      },
      "cell_type": "code",
      "source": "display(HTML(\"\"\"<div>\n    <a href=\"https://plot.ly/~hmcgushion/4/?share_key=pArkblYSXlgzZWvBrvqeFH\" target=\"_blank\" title=\"AllStoresAndStations_Plot\" style=\"display: block; text-align: center;\"><img src=\"https://plot.ly/~hmcgushion/4.png?share_key=pArkblYSXlgzZWvBrvqeFH\" alt=\"AllStoresAndStations_Plot\" style=\"max-width: 100%;width: 1000px;\"  width=\"1000\" onerror=\"this.onerror=null;this.src='https://plot.ly/404.png';\" /></a>\n    <script data-plotly=\"hmcgushion:4\" sharekey-plotly=\"pArkblYSXlgzZWvBrvqeFH\" src=\"https://plot.ly/embed.js\" async></script>\n</div>\"\"\"))",
      "execution_count": null,
      "outputs": []
    },
    {
      "metadata": {
        "_cell_guid": "370a6b72-0d8b-4b04-9262-e2c4599dc46a",
        "_uuid": "8dd59ad64b21fd276f128048838092ebb6e1a70f"
      },
      "cell_type": "markdown",
      "source": "Above, we have all of the AIR store locations in red, and all of the HPG locations in blue.\n<br>\nWe also have all of the active weather stations in green, and all of the terminated station in black.\n<br>\nYou can zoom and pan and hover over any point to see its latidude, longitude coordinates, and the area (for stores), or the station_id for weather stations.\n\nThe next ScatterMapBox will show all of the stores, with only the nearest weather stations.\n<br>\nAdditionally, it shows the distance from each store to its nearest station, along with a line between the store and station to better visualize the distance."
    },
    {
      "metadata": {
        "collapsed": true,
        "_cell_guid": "86f66821-510f-45f3-83e7-051e870cdff9",
        "_uuid": "054d184f81f13048784b03fc48ffe2bd1d4f52ee",
        "trusted": false
      },
      "cell_type": "code",
      "source": "",
      "execution_count": null,
      "outputs": []
    }
  ],
  "metadata": {
    "language_info": {
      "name": "python",
      "nbconvert_exporter": "python",
      "file_extension": ".py",
      "mimetype": "text/x-python",
      "pygments_lexer": "ipython3",
      "codemirror_mode": {
        "name": "ipython",
        "version": 3
      },
      "version": "3.6.4"
    },
    "kernelspec": {
      "display_name": "Python 3",
      "language": "python",
      "name": "python3"
    }
  },
  "nbformat": 4,
  "nbformat_minor": 1
}