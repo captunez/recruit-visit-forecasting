{
  "cells": [
    {
      "metadata": {
        "_cell_guid": "3d031044-522c-4468-83f6-15c2fef96bd8",
        "_uuid": "ca266113f6bd4ce070fda0e120d5895adf6e37c8"
      },
      "cell_type": "markdown",
      "source": "## Introduction"
    },
    {
      "metadata": {
        "_cell_guid": "5b61c995-7921-449d-b253-04baaf697dde",
        "_uuid": "c01cce3cca8b6d8fb276d7979bc7c416de7a1d0b"
      },
      "cell_type": "markdown",
      "source": "In this competition, we are asked  to use reservation and visitation data to predict the total number of visitors to a restaurant for future dates. This information is supposed to help restaurants be much more efficient and allow them to focus on creating an enjoyable dining experience for their customers. \n\nThis is a nice opportunity to learn more about Japan!!!"
    },
    {
      "metadata": {
        "_cell_guid": "6632454f-47ef-45da-9462-ca1ccce1b126",
        "_uuid": "d70d9ef0a6a1778ecdb1a4d30e073cc733e9723b"
      },
      "cell_type": "markdown",
      "source": "The data comes from two separate sites:\n\n* Hot Pepper Gourmet (hpg): similar to Yelp, here users can search restaurants and also make a reservation online\n* AirREGI / Restaurant Board (air): similar to Square, a reservation control and cash register system"
    },
    {
      "metadata": {
        "_cell_guid": "3753ad20-b483-4dd5-9cd4-84e666831939",
        "_uuid": "be6b73f9f01b28a76129394d5b0eed6c959ea08d",
        "trusted": false,
        "collapsed": true
      },
      "cell_type": "code",
      "source": "import numpy as np # linear algebra\nimport pandas as pd # data processing, CSV file I/O (e.g. pd.read_csv)\nfrom subprocess import check_output\nimport matplotlib.pyplot as plt\nimport seaborn as sns\nprint(check_output([\"ls\", \"../input\"]).decode(\"utf8\"))",
      "execution_count": null,
      "outputs": []
    },
    {
      "metadata": {
        "_cell_guid": "51340418-bc4c-422c-b818-e298c00cee01",
        "_uuid": "fb62ece54cd6bae9192911b8b1498dfd73b393b8"
      },
      "cell_type": "markdown",
      "source": "## Data Wrangling"
    },
    {
      "metadata": {
        "_cell_guid": "01c92b0b-c463-48d7-958c-15b6743866bd",
        "_uuid": "4754613878951aea96be3447e15d41c6b6bbf7fe"
      },
      "cell_type": "markdown",
      "source": "The training data covers the dates from 2016 until April 2017. The test set covers the last week of April and May of 2017. The test set is split based on time (the public fold coming first, the private fold following the public) and covers a chosen subset of the air restaurants. Note that the test set intentionally spans a holiday week in Japan called the \"Golden Week.\""
    },
    {
      "metadata": {
        "_cell_guid": "899733d1-b239-4cb5-9d87-b16f9ab0111b",
        "collapsed": true,
        "_uuid": "b8e3eceff3d3edb5f3617fd5a7799f0947fb9f60",
        "trusted": false
      },
      "cell_type": "code",
      "source": "airres = pd.read_csv('../input/air_reserve.csv')\nairstore = pd.read_csv('../input/air_store_info.csv')\nhpgres = pd.read_csv('../input/hpg_reserve.csv')\nhpgstore = pd.read_csv('../input/hpg_store_info.csv')\nairvisit = pd.read_csv('../input/air_visit_data.csv')\n",
      "execution_count": null,
      "outputs": []
    },
    {
      "metadata": {
        "_cell_guid": "51b4f766-e9d8-41c1-a407-594299a3a448",
        "_uuid": "34835f3381596dffaf7e23ab7a11ad5eb966178e",
        "trusted": false,
        "collapsed": true
      },
      "cell_type": "code",
      "source": "airvisit.tail()",
      "execution_count": null,
      "outputs": []
    },
    {
      "metadata": {
        "_cell_guid": "c35dc22d-b509-4d57-a29a-d8e2f68d684d",
        "_uuid": "12b33f2a81151223687054ae06bee081c0876d55",
        "trusted": false,
        "collapsed": true
      },
      "cell_type": "code",
      "source": "airres.head()",
      "execution_count": null,
      "outputs": []
    },
    {
      "metadata": {
        "_cell_guid": "4cf88ec5-0b82-454f-977d-3d9c8ab319ed",
        "_uuid": "aebdc24aeb2c5463e33d65ee98a40dcbbb866c78",
        "trusted": false,
        "collapsed": true
      },
      "cell_type": "code",
      "source": "air = pd.merge(airres,airstore,on='air_store_id')\nhpg = pd.merge(hpgres,hpgstore,on='hpg_store_id')\nrel = pd.read_csv('../input/store_id_relation.csv')\nairrel = pd.merge(air,rel,how='left',on='air_store_id')\nhpgrel = pd.merge(hpg,rel,how='left',on='hpg_store_id')\nfull = pd.merge(airrel,hpgrel,how='outer')\nprint(\"there are \",len(air),\" restaurants with AIR and \",len(hpg),\" with HPG.\",len(rel),' have both.')",
      "execution_count": null,
      "outputs": []
    },
    {
      "metadata": {
        "_cell_guid": "631c0199-cd66-465b-8058-079ebf12fadd",
        "_uuid": "bf4a642de8ed75f0da36b171b735b1277ab662ab"
      },
      "cell_type": "markdown",
      "source": "## A Bit of Geography and Clustering"
    },
    {
      "metadata": {
        "_cell_guid": "2fda040b-40f9-43e0-a582-c3bf53679086",
        "_uuid": "f4196cb08968577f49f3908abe7eccd8ab74483b"
      },
      "cell_type": "markdown",
      "source": "Apparently Japan's terittory is divided in 8 regions which are not official administrative units, but have been traditionally used as the regional division of Japan in a number of contexts [https://en.wikipedia.org/wiki/List_of_regions_of_Japan ]\n\nFrom north to south, the traditional regions are:\n* **Hokkaidō** (the island of Hokkaidō and nearby islands, population: 5,507,456, largest city: Sapporo)\n* **Tōhoku** region (northern Honshū, population: 9,335,088, largest city: Sendai)\n* **Kantō** region (eastern Honshū, population: 42,607,376, largest city: Tokyo)\n* **Chūbu region** (central Honshū, including Mt. Fuji, population: 21,714,995, largest city: Nagoya), sometimes divided into:\n   * Hokuriku region (northwestern Chūbu, largest city: Kanazawa)\n   * Kōshin'etsu region (northeastern Chūbu, largest city: Niigata)\n  * Tōkai region (southern Chūbu, largest city: Nagoya)\n* **Kansai or Kinki** region (west-central Honshū, including the old capital, Kyoto, population: 22,755,030, largest city: Osaka)\n* **Chūgoku** region (western Honshū, population: 7,561,899, largest city: Hiroshima)\n* **Shikoku** (island, population: 3,977,205, largest city: Matsuyama)\n* **Kyūshū** (island, population: 14,596,977, largest city: Fukuoka) which includes:\n  * Northern Kyushu: Fukuoka, Saga, Nagasaki and Ōita (largest city: Fukuoka)\n  * Southern Kyushu: Kumamoto, Miyazaki and Kagoshima (largest city: Kagoshima)\n  * Okinawa (largest city: Naha)"
    },
    {
      "metadata": {
        "_cell_guid": "88f657e7-8bf9-4344-9d2d-1ab1634e052d",
        "_uuid": "5f2c53906133e643a179a7c64b6a6fb22cf36316"
      },
      "cell_type": "markdown",
      "source": "![](http://goinjapanesque.com/wpos/wp-content/uploads/2015/07/Japan-map-en.png)"
    },
    {
      "metadata": {
        "_cell_guid": "cb866471-4294-4eb7-b156-8379e0c7bbd3",
        "collapsed": true,
        "_uuid": "a9b275f7798423928dcdffaa0f449755dc3ba945",
        "trusted": false
      },
      "cell_type": "code",
      "source": "from mpl_toolkits.basemap import Basemap\nimport matplotlib.pyplot as plt\nf,ax = plt.subplots(1,1,figsize=(15,16))\nm = Basemap(projection='aeqd',width=2000000,height=2000000, lat_0=37.5, lon_0=138.2)\n\nm.drawcoastlines()\nm.fillcontinents(color='lightgray',lake_color='aqua',zorder=1)\nm.scatter(hpg.longitude.values,hpg.latitude.values,marker='o',color='blue',zorder=999,latlon=True)\nm.scatter(air.longitude.values,air.latitude.values,marker='x',color='green',zorder=999,latlon=True)\nax.legend()\nplt.show()",
      "execution_count": null,
      "outputs": []
    },
    {
      "metadata": {
        "_cell_guid": "a10944ab-4477-4bb9-ab2c-5ef154346723",
        "_uuid": "250094ee0db7f59104f4a576be3e3ffdec2337ca"
      },
      "cell_type": "markdown",
      "source": "I am now going to identify 10 clusters with KMeans according to the restaurants' coordinates. Markers of different clusters will be depicted with different colors. I will place a black dot representing the cluster centroid with a label identifying it as an integer. I will also place a label close to the cluster with the name of the Japan region in which that cluster relies."
    },
    {
      "metadata": {
        "_cell_guid": "b22b114a-460f-40a1-ac75-ec310536e66f",
        "collapsed": true,
        "_uuid": "dcc991a9081862e2dca69132bc4f2627fc9ce370",
        "trusted": false
      },
      "cell_type": "code",
      "source": "from sklearn.cluster import KMeans\nkmeans = KMeans(n_clusters=10, random_state=0).fit(full[['longitude','latitude']])\nfull['cluster'] = kmeans.predict(full[['longitude','latitude']])",
      "execution_count": null,
      "outputs": []
    },
    {
      "metadata": {
        "_cell_guid": "14af3f80-3dce-4378-8481-f4f816ac9df7",
        "collapsed": true,
        "_uuid": "b97a4e91988682cb96569c3b334d6eb3d3e32ba9",
        "trusted": false
      },
      "cell_type": "code",
      "source": "cx = [c[0] for c in kmeans.cluster_centers_]\ncy = [c[1] for c in kmeans.cluster_centers_]\ncm = plt.get_cmap('gist_rainbow')\ncolors = [cm(2.*i/10) for i in range(10)]\ncolored = [colors[k] for k in full['cluster']]\nf,axa = plt.subplots(1,1,figsize=(15,16))\nm.drawcoastlines()\nm.fillcontinents(color='lightgray',lake_color='aqua',zorder=1)\nm.scatter(full.longitude.values,full.latitude.values,color=colored,s=20,alpha=1,zorder=999,latlon=True)\nm.scatter(cx,cy,color='Black',s=50,alpha=1,latlon=True,zorder=9999)\nplt.setp(axa.get_yticklabels(), visible=True)\nplt.annotate('Fukuoka', xy=(0.04, 0.32), xycoords='axes fraction',fontsize=20)\nplt.annotate('Shikoku', xy=(0.25, 0.25), xycoords='axes fraction',fontsize=20)\nplt.annotate('Hiroshima', xy=(0.2, 0.36), xycoords='axes fraction',fontsize=20)\nplt.annotate('Osaka', xy=(0.40, 0.30), xycoords='axes fraction',fontsize=20)\n\nplt.annotate('Tokyo', xy=(0.60, 0.4), xycoords='axes fraction',fontsize=20)\nplt.annotate('Shizoku', xy=(0.50, 0.32), xycoords='axes fraction',fontsize=20)\n\nfor i in range(len(cx)):\n    xpt,ypt = m(cx[i],cy[i])\n    plt.annotate(i, (xpt+500,ypt+500),zorder=99999,fontsize=16)\nplt.show()\n\n",
      "execution_count": null,
      "outputs": []
    },
    {
      "metadata": {
        "_cell_guid": "0ceaf953-0cd1-47d8-b52e-d561fbf2e47a",
        "_uuid": "d9439774d4774430215ca0685287e2a87c75eac4"
      },
      "cell_type": "markdown",
      "source": "Let's try to relate the identified groups with the biggest cities:\n\n* Cluster 0 refers to Tokyo.\n* Cluster 1 refers  to Osaka\n* Cluster 2 refers to Sapporo\n* Cluster 3 refers to Fukuoka\n* Cluster 4 refers to Nigata\n* Cluster 5 referst to Hiroshima\n* Cluster 6 refers to Shizouku\n* Cluster 7 refers to Sendai\n* Cluster 9 refers to Kobe"
    },
    {
      "metadata": {
        "_cell_guid": "1234ed4d-1d3c-422d-835b-e896d2cb9bc4",
        "collapsed": true,
        "_uuid": "d5b84929459a4b07b29b53ef74c5aee8ea52f743",
        "trusted": false
      },
      "cell_type": "code",
      "source": "f,axa = plt.subplots(1,2,figsize=(15,6))\nhist_clust = full.groupby(['cluster'],as_index=False).count()\nsns.barplot(x=hist_clust.cluster,y=hist_clust.air_store_id,ax=axa[0])\nsns.barplot(x=hist_clust.cluster,y=hist_clust.hpg_store_id,ax=axa[1])\nplt.show()",
      "execution_count": null,
      "outputs": []
    },
    {
      "metadata": {
        "_cell_guid": "c928e1e4-991a-4bdc-a846-349f6a69b326",
        "_uuid": "bf2cf080471b716510ebe8d5adf7e713331e94c2"
      },
      "cell_type": "markdown",
      "source": "let's see now how data is distributed"
    },
    {
      "metadata": {
        "_cell_guid": "753f487e-469c-4a26-a0ff-c0c3b549ceba",
        "collapsed": true,
        "_uuid": "b34cda8e7f2519d2ec0c3fd026f02d349d98b709",
        "trusted": false
      },
      "cell_type": "code",
      "source": "f,ax = plt.subplots(1,1,figsize=(15,6))\nairhist = air.groupby(['air_store_id'],as_index=False).count()\nsns.distplot(airhist.visit_datetime)\nhpghist = hpg.groupby(['hpg_store_id'],as_index=False).count()\nsns.distplot(hpghist.visit_datetime)\nplt.show()\n#sns.barplot(x= airhist.air_store_id,y = airhist.visit_datetime)",
      "execution_count": null,
      "outputs": []
    },
    {
      "metadata": {
        "_cell_guid": "110b796f-cb58-4e69-a08f-5375a0c077cf",
        "_uuid": "e40204ecd1b51892850b7e52361197410a402f10"
      },
      "cell_type": "markdown",
      "source": "## Cousine Genres"
    },
    {
      "metadata": {
        "_cell_guid": "a85cef03-c989-42ec-975d-4620730bd1bc",
        "_uuid": "c40c2bc510a39c65d56d6525fd92739812784cb6"
      },
      "cell_type": "markdown",
      "source": "Now let's check out wht are the genres appreciated in Japan. I have prepared two heatmaps: the former with thenumber of restaurants for each genre (columns) in each region (row) for thos with AIR reservation  system; the latter with the HPG.\n\nFor  the AIR restaurants, It looks like Izakayas, which I learned is a casual place for after-work drinking (like a pub?) https://en.wikipedia.org/wiki/Izakaya,  are the places with the wider appreciation, among regions. \n\nItalian and French Restaurants are instead the most appreciated in Tokyo, among the restaurants with the AIR system, which makes me happy since I am Italian :).\n"
    },
    {
      "metadata": {
        "_cell_guid": "7a84b2c6-e2b9-4eb2-b529-ce27f0503fd4",
        "collapsed": true,
        "_uuid": "ac6e2175f4f21907801ace168c5cf5341959e7f9",
        "trusted": false
      },
      "cell_type": "code",
      "source": "air_genre = full.loc[full.air_genre_name.isnull()==False].groupby(['cluster','air_genre_name'],as_index=False).count()\nhpg_genre = full.loc[full.hpg_genre_name.isnull()==False].groupby(['cluster','hpg_genre_name'],as_index=False).count()\n\ngenres = air.air_genre_name.unique()\n\n#i = 0\nf,axa= plt.subplots(2,1,figsize=(15,36))\nhm = []\nfor i in range(10):\n    genres_count = [ air_genre.loc[air_genre.cluster==i].loc[air_genre.air_genre_name==name]['air_store_id'].values[0] if name in air_genre.loc[air_genre.cluster==i].air_genre_name.values else 0 for name in genres] \n    hm.append(genres_count)\nhm = pd.DataFrame(hm,columns=genres,)\nsns.heatmap(hm.transpose(),cmap=\"YlGnBu\",ax=axa[0])\n\ngenres = hpg.hpg_genre_name.unique()\nhm = []\nfor i in range(10):\n    genres_count = [ hpg_genre.loc[hpg_genre.cluster==i].loc[hpg_genre.hpg_genre_name==name]['hpg_store_id'].values[0] if name in hpg_genre.loc[hpg_genre.cluster==i].hpg_genre_name.values else 0 for name in genres] \n    hm.append(genres_count)\nhm = pd.DataFrame(hm,columns=genres,)\nsns.heatmap(hm.transpose(),cmap=\"YlGnBu\",ax=axa[1])\n\n\nplt.show()",
      "execution_count": null,
      "outputs": []
    },
    {
      "metadata": {
        "_cell_guid": "5fe0a3b0-062c-4014-a800-91cfca021e16",
        "_uuid": "06910c8310d0f44bbd0b1b2bc41890f161d209bb"
      },
      "cell_type": "markdown",
      "source": "## Japanese Holidays"
    },
    {
      "metadata": {
        "_cell_guid": "efaac7a0-573f-4224-8b7b-2fbd33a44081",
        "_uuid": "c3e485e7246e172e52864a9a1d87ffdffd516240"
      },
      "cell_type": "markdown",
      "source": "Let's check what are the Japanese holidays excluding Saturday and Sundays"
    },
    {
      "metadata": {
        "_cell_guid": "141878d5-9e07-4e13-865d-7d1179664cb3",
        "collapsed": true,
        "_uuid": "78c8bcdcdeffa554ef87db31d7610aa5e71c5bb6",
        "trusted": false
      },
      "cell_type": "code",
      "source": "dates = pd.read_csv('../input/date_info.csv')\ndates.loc[dates.holiday_flg==1].loc[(dates.day_of_week !='Saturday')].loc[dates.day_of_week !='Sunday']\n",
      "execution_count": null,
      "outputs": []
    },
    {
      "metadata": {
        "_cell_guid": "7e2573c1-ccce-449b-8156-5a132d802e80",
        "_uuid": "856cc3b1094fc49abbe5aaababf04e1146fffca0"
      },
      "cell_type": "markdown",
      "source": "I want to learn more about that so I will rely on this list https://www.officeholidays.com/countries/japan/index.php\n\n* Jan 1st - **New Years day **;\n* 2nd Monday of January - **Coming of Age day **: The day honors young Japanese who will reach the age of 20 at any point during the year. Twenty is the age of majority in Japan, and people who have reached this age gain the right to vote in elections as well as to drink;\n* Feb 11th - **National Foundation day**:  a national holiday for Japanese people to remind themselves of the nation's founding and foster their love for the nation;\n* March 20th or 21st- **Vernal Equinox day**: The day is intended to celebrate the love of nature and living things.In modern Japan, the day still maintains its older traditions as visiting family graves and holding family reunions is a common way of celebrating the equinox;\n* April 29th - ** Showa day**: Showa Day honours the birthday of Emperor Hirohito, the reigning Emperor before, during, and after World War II (from 1926 - 1989);\n\ncontinue...\n"
    },
    {
      "metadata": {
        "_cell_guid": "ade9ab36-817e-4a07-a29e-7b99a43a65f0",
        "_uuid": "a18daac72b461ae0866ffa46268a048380e514e8"
      },
      "cell_type": "markdown",
      "source": "Now I am going to create two features telling me whther the reservation or the visit occurred in a holiday (reservation_holiday and visit_holiday are the new columns)."
    },
    {
      "metadata": {
        "_cell_guid": "347cbf1f-4177-48c2-a50b-2650d28dfc65",
        "collapsed": true,
        "_uuid": "0c671d8481c84812d74f009cf2afc7186830d41d",
        "trusted": false
      },
      "cell_type": "code",
      "source": "vdt = pd.to_datetime(full.visit_datetime)\nrdt = pd.to_datetime(full.reserve_datetime)\nfull['vd']=vdt.dt.date\nfull['vt']=vdt.dt.time\nfull['rd']=rdt.dt.date\nfull['rt']=rdt.dt.time\n\ndts = pd.to_datetime(dates.calendar_date)\ndays = ['Sunday','Monday','Tuesday','Wednesday','Thursday','Friday','Saturday']\ndates['calendar_date'] = pd.to_datetime(dates['calendar_date']).dt.date\ndates['dy'] = dts.dt.dayofyear\ndates['dw'] = [days.index(dw) for dw in dates.day_of_week]\ndates.head()\n\nnf = pd.merge(full,dates[['calendar_date','holiday_flg']],how='left',left_on='vd',right_on='calendar_date')\nnf = nf.rename(index = str, columns = {'holiday_flg':'visit_holiday'})\nnf = nf.drop(['calendar_date'],axis=1)\n\nnf = pd.merge(nf,dates[['calendar_date','holiday_flg']],how = 'left', left_on='rd',right_on='calendar_date')\nnf = nf.rename(index = str, columns = {'holiday_flg':'reservation_holiday'})\nnf = nf.drop(['calendar_date'],axis=1)\n\nnf['vd'] = pd.to_datetime(nf['vd']).dt.dayofyear\nnf['rd'] = pd.to_datetime(nf['rd']).dt.dayofyear\nnf.head()\n",
      "execution_count": null,
      "outputs": []
    },
    {
      "metadata": {
        "_cell_guid": "2fe5a416-6c29-49b6-a377-31800782dc1c",
        "_uuid": "52922863d36c8bd732a4eda6a3cdbc941186a684"
      },
      "cell_type": "markdown",
      "source": "We can check how many days before the visit japenese people make the reservation."
    },
    {
      "metadata": {
        "_cell_guid": "c1574275-79c5-413e-b336-d15423a66de3",
        "collapsed": true,
        "_uuid": "eb2c69ae09b2e22684efa0dd14c418aa2e49f4a7",
        "trusted": false
      },
      "cell_type": "code",
      "source": "deltatime = vdt - rdt\ndays = deltatime.dt.days\n\ndays.describe()",
      "execution_count": null,
      "outputs": []
    },
    {
      "metadata": {
        "_cell_guid": "38989141-95d5-431e-8320-cc9c0980ac80",
        "collapsed": true,
        "_uuid": "c8826b2b930ce2337e040d6db7c34b2c93a09314",
        "trusted": false
      },
      "cell_type": "code",
      "source": "f,axa = plt.subplots(1,1,figsize=(15,6))\nsns.distplot(days)\nplt.xlim(0,40)\naxa.set_title('Days between Reservation and Visit')\nplt.show()",
      "execution_count": null,
      "outputs": []
    },
    {
      "metadata": {
        "_cell_guid": "ef2b9777-b785-442e-ae0f-9724d0394818",
        "collapsed": true,
        "_uuid": "98c35e2b05a284e504375815980d3a7214362950",
        "trusted": false
      },
      "cell_type": "code",
      "source": "f,ax = plt.subplots(1,1, figsize=(15,6))\nvholidayhist= nf[nf['visit_holiday']==1].groupby(['vd'],as_index=False).count()\nsns.barplot(x = vholidayhist.vd,y=vholidayhist.visit_datetime)\nax.set_title('Visits in Japanese Holidays')\nplt.show()",
      "execution_count": null,
      "outputs": []
    },
    {
      "metadata": {
        "_cell_guid": "7654bed4-fb88-4f76-ba1f-ef8bfe0617e2",
        "collapsed": true,
        "_uuid": "4ff8b3f192fa19b33495eb01c5f39effa63637c6",
        "trusted": false
      },
      "cell_type": "code",
      "source": "f,ax = plt.subplots(1,1, figsize=(15,6))\nvholidayhist= nf[nf['visit_holiday']==0].groupby(['vd'],as_index=False).count()\nsns.barplot(x = vholidayhist.vd,y=vholidayhist.visit_datetime)\nax.set_title('Visits in Other Days')\nplt.show()",
      "execution_count": null,
      "outputs": []
    },
    {
      "metadata": {
        "_cell_guid": "d79185c1-ce8a-4d8a-b34e-5d6096d19534",
        "_uuid": "ddb7a2bf1464d3406dcda756befe315d1672114a"
      },
      "cell_type": "markdown",
      "source": "WORK IN PROGRESS !!!"
    },
    {
      "metadata": {
        "_cell_guid": "09a75284-edbc-48c1-bd13-2f52419c8f63",
        "collapsed": true,
        "_uuid": "3e8f1c66143f1345f85658d4174db85107c36b67",
        "trusted": false
      },
      "cell_type": "code",
      "source": "",
      "execution_count": null,
      "outputs": []
    },
    {
      "metadata": {
        "_cell_guid": "c27cba35-f631-4ae4-9822-a91aa900076f",
        "collapsed": true,
        "_uuid": "36f4cb9f70cc7e70b99c4ad3e3bb75e04de31403",
        "trusted": false
      },
      "cell_type": "code",
      "source": "",
      "execution_count": null,
      "outputs": []
    }
  ],
  "metadata": {
    "kernelspec": {
      "display_name": "Python 3",
      "language": "python",
      "name": "python3"
    },
    "language_info": {
      "name": "python",
      "version": "3.6.4",
      "mimetype": "text/x-python",
      "codemirror_mode": {
        "name": "ipython",
        "version": 3
      },
      "pygments_lexer": "ipython3",
      "nbconvert_exporter": "python",
      "file_extension": ".py"
    }
  },
  "nbformat": 4,
  "nbformat_minor": 1
}